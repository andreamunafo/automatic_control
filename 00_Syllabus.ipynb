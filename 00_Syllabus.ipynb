{
 "cells": [
  {
   "cell_type": "markdown",
   "id": "f0d592ea",
   "metadata": {},
   "source": [
    "## Course Meeting Times\n",
    "Lectures: 2 sessions / week, Wednesday 3 hour / session and Thursday 2 hour / session"
   ]
  },
  {
   "cell_type": "markdown",
   "id": "1e2275e1",
   "metadata": {},
   "source": [
    "## Course Description\n",
    "\n",
    "This course introduces the design of feedback control systems. Topics include the properties and advantages of feedback systems, time-domain and frequency-domain performance measures, stability and degree of stability, the Root locus method, Nyquist criterion, and frequency-domain design.\n",
    "\n",
    "- A bit on Python/Jupyter notebook\n",
    "- Open loop vs Closed Loop\n",
    "- Transfer functions and Laplace transform\n",
    "- Block Diagrams\n",
    "- Reponse of a system\n",
    "- Frequency response and Bode plots\n",
    "- Final Value Theorem and Steady State\n",
    "- System Stability and Control\n",
    "- The Root Locus Method\n",
    "- Nyquist Stability Criterion\n",
    "- PID controllers\n",
    "- PID and roots locus\n",
    "- Gain and phase margins\n",
    "- Sensitivity Functions\n",
    "- Lead/Lag compensators"
   ]
  },
  {
   "cell_type": "markdown",
   "id": "88be27b1",
   "metadata": {},
   "source": [
    "## Textbook\n",
    "A useful but not mandatory textbook for this class, available on Amazon, is:\n",
    "\n",
    "- Ogata, Katsuhiko. Modern Control Engineering. 4th ed. Prentice Hall, 2002.\n",
    "\n",
    "\n",
    "Other texts which might be helpful:\n",
    "\n",
    "- Franklin, Gene, J. David Powell, and Abbas Emami-Naeini. Feedback Control of Dynamic Systems. 6th ed. Prentice Hall, 2009. ISBN: 9780136019695.\n",
    "\n",
    "- Van de Vegte, John. Feedback Control Systems. 3rd ed. Prentice Hall, 1994. ISBN: 9780002085069.\n",
    "\n",
    "- Kuo, Benjamin. Automatic Control Systems. 8th ed. John Wiley & Sons, 2003. ISBN: 9780471381488.\n",
    "\n",
    "- Ogata, Katsuhiko. Solving Control Engineering Problems with MATLAB. Prentice Hall, 1993. ISBN: 9780130459077.\n",
    "\n",
    "\n",
    "Or in Italian\n",
    "\n",
    "- Bolzern, Scattolini, Schiavoni. Fondamenti di Controlli Automatici, 2nd ed. McGraw-Hill.\n"
   ]
  },
  {
   "cell_type": "markdown",
   "id": "761a0c94",
   "metadata": {},
   "source": [
    "## Use of Python / MATLAB®\n",
    "\n",
    "The use of a software package like Python or MATLAB is very helpful in the study of Feedback Systems. \n",
    "The software can best be used initially to check work that is first done traditionally with pencil and paper. This is particularly helpful when verifying polar plots (Nyquist plots), Bode diagrams and root loci when first attempting to sketch these functions. \n",
    "In addition, step responses in the time domain can be examined in order to build an intuitive sense of the relations between time and frequency domain behavior. \n",
    "We also will use Pyton to check the validity of simplifying approximations that are often made when carrying out preliminary designs. Finally we can study more complex problems with a computer-aided design package without the enormous burden of doing extensive computations. \n",
    "\n",
    "We suggest that everyone become familiar with the use of Python or MATLAB. Remember that we want you to come away with an understanding of feedback theory in some depth. The computer is to aid in achieving this understanding and should be used intelligently as an engineering tool."
   ]
  },
  {
   "cell_type": "markdown",
   "id": "ab8e664c",
   "metadata": {},
   "source": [
    "---------------------"
   ]
  }
 ],
 "metadata": {
  "kernelspec": {
   "display_name": "Python [conda env:data-science] *",
   "language": "python",
   "name": "conda-env-data-science-py"
  }
 },
 "nbformat": 4,
 "nbformat_minor": 5
}
