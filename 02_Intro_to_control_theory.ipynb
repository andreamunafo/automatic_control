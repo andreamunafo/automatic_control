{
 "cells": [
  {
   "cell_type": "code",
   "execution_count": null,
   "id": "73a5ce60",
   "metadata": {},
   "outputs": [],
   "source": [
    "# default_exp intro_to_control_theory"
   ]
  },
  {
   "cell_type": "code",
   "execution_count": null,
   "id": "2514fad0",
   "metadata": {},
   "outputs": [],
   "source": [
    "%load_ext autoreload\n",
    "%autoreload 2"
   ]
  },
  {
   "cell_type": "code",
   "execution_count": null,
   "id": "1af0acf9",
   "metadata": {},
   "outputs": [],
   "source": [
    "from importing_modules import *"
   ]
  },
  {
   "cell_type": "code",
   "execution_count": null,
   "id": "92a8c243",
   "metadata": {},
   "outputs": [],
   "source": [
    "%matplotlib inline"
   ]
  },
  {
   "cell_type": "markdown",
   "id": "0b154655",
   "metadata": {},
   "source": [
    "------------------------"
   ]
  },
  {
   "cell_type": "markdown",
   "id": "7337c231",
   "metadata": {},
   "source": [
    "# The Control Problem"
   ]
  },
  {
   "cell_type": "markdown",
   "id": "7f18c5c0",
   "metadata": {},
   "source": [
    "This notebook provides an overview of the big picture problem that we’re trying to solve as control system engineers. "
   ]
  },
  {
   "cell_type": "markdown",
   "id": "bd2ff201",
   "metadata": {},
   "source": [
    "- Control theory allows to solve a number of engineering problems, not only as control engineers but as any engineer\n",
    "    - Switching power regulators\n",
    "    - Automatic gain control circuits that automatically increase or decrease the gain of a signal\n",
    "    - Isolation system in a motor mount that is sensitive to vibrations\n",
    "    - Industrial robotics\n",
    "    - etc."
   ]
  },
  {
   "cell_type": "markdown",
   "id": "00655f6c",
   "metadata": {},
   "source": [
    "Control system is:\n",
    "- Building models of your system\n",
    "- Simulate them to make predictions\n",
    "- Understanding the dynamics and how they interact with the rest of the system\n",
    "- Filtering and rejecting noise\n",
    "- Selecting or designing hardware (sensors, actuators)\n",
    "- Testing the system in expected and unexpected environments\n",
    "- It is understanding your system!"
   ]
  },
  {
   "cell_type": "markdown",
   "id": "85a287cc",
   "metadata": {},
   "source": [
    "------------------"
   ]
  },
  {
   "cell_type": "markdown",
   "id": "99d1444f",
   "metadata": {},
   "source": [
    "## What is a system?"
   ]
  },
  {
   "cell_type": "markdown",
   "id": "9e722776",
   "metadata": {},
   "source": [
    "The concept is straigthforward, but the term is sometime applied very generically\n",
    "\n",
    "For us:\n",
    "\n",
    "> A **system** is a collection of interconnected parts that form a larger more complex whole\n"
   ]
  },
  {
   "cell_type": "markdown",
   "id": "ee30606d",
   "metadata": {},
   "source": [
    "Engineering problems are usually complex.\n",
    "- Divide complex projects into smaller parts, or _systems_ makes it possible to simplify the problem and to specialise in specific areas\n",
    "- Each one of the interconnected parts that form a larger system can be a complex system in its own right!"
   ]
  },
  {
   "cell_type": "markdown",
   "id": "e00799ac",
   "metadata": {},
   "source": [
    "### Control systems\n",
    "\n",
    "As a control engineer:\n",
    "- Goal is to create something that meets the functional or performance requirements you set for the project. \n",
    "- The collection of the interconnected parts that are created specifically to meet these requirements are the _control system_ (at least in general)\n",
    "- More specifically: **A control system is a mechanism that alters the future state of a system**\n",
    "\n",
    "- For any project however the control system again might be a collection of interconnected parts that require specialists:\n",
    "    - sensor experts, \n",
    "    - actuators experts, \n",
    "    - digital signal processing experts, \n",
    "    - state estimation experts."
   ]
  },
  {
   "cell_type": "markdown",
   "id": "1fd6fecb",
   "metadata": {},
   "source": [
    "For example:"
   ]
  },
  {
   "cell_type": "markdown",
   "id": "80b26ebe",
   "metadata": {},
   "source": [
    "<tr>\n",
    "<td> <img src=\"img/1.Disk-brakes.png\" alt=\"1.Disk-brakes\" style=\"width: 350px;\"/> </td>\n",
    "<td> <img src=\"img/2.Break-Hydraulics.png\" alt=\"2.Break-Hydraulics\" style=\"width: 350px;\"/> </td>\n",
    "<td> <img src=\"img/3.Parking-brake-light-system.png\" alt=\"3.Parking-brake-light-system\" style=\"width: 350px;\"/> </td>\n",
    "</tr>"
   ]
  },
  {
   "cell_type": "markdown",
   "id": "d13b0d0f",
   "metadata": {},
   "source": [
    "And of course, the breaking system itself is just one of the main interconnected parts that create the car."
   ]
  },
  {
   "cell_type": "markdown",
   "id": "20610866",
   "metadata": {},
   "source": [
    "### System as a box"
   ]
  },
  {
   "cell_type": "markdown",
   "id": "7690b55b",
   "metadata": {},
   "source": [
    "- We represent systems graphically as a box\n",
    "- Arrows going into the box are inputs\n",
    "- Arrows going out of the box are output\n",
    "\n",
    "<tr>\n",
    "<td> <img src=\"img/4.system.png\" alt=\"4.system\" style=\"width: 350px;\"/> </td>\n",
    "</tr>"
   ]
  },
  {
   "cell_type": "markdown",
   "id": "da74752a",
   "metadata": {},
   "source": [
    "- The system inside the box is described through a math model (e.g. equation of motion)\n",
    "- The \"box\" can be used to describe systems that are simple or complex"
   ]
  },
  {
   "cell_type": "markdown",
   "id": "75e29097",
   "metadata": {},
   "source": [
    "So if we want to start representing it more formally:\n",
    "\n",
    "<tr>\n",
    "<td style=\"text-align: center;\"> <img src=\"img/dyn-system.png\" alt=\"1.Disk-brakes\" style=\"width: 350px;\"/> </td>\n",
    "</tr>"
   ]
  },
  {
   "cell_type": "markdown",
   "id": "b563509c",
   "metadata": {},
   "source": [
    "- $u$: control inputs \n",
    "\n",
    "- $\\xi$: disturbances\n",
    "\n",
    "- $f$: system (physics is involved here!)\n",
    "\n",
    "- $\\theta$: system parameters (e.g., mass, inertia, spring constants, etc. )\n"
   ]
  },
  {
   "cell_type": "markdown",
   "id": "822b3602",
   "metadata": {},
   "source": [
    "<table style='margin: 0 auto' rules=none>\n",
    "    <tr>\n",
    "    <td> <img src=\"img/5.simple-system.png\" alt=\"5.simple-system\" style=\"width: 300px;\"/> </td>\n",
    "    <td> <img src=\"img/6.complex-system.png\" alt=\"6.complex-system\" style=\"width: 300px;\"/> </td>\n",
    "    </tr>\n",
    "</table>"
   ]
  },
  {
   "cell_type": "markdown",
   "id": "c581904f",
   "metadata": {},
   "source": [
    "---------------------------"
   ]
  },
  {
   "cell_type": "markdown",
   "id": "1d811323",
   "metadata": {},
   "source": [
    "## Three different problems\n",
    "- Three parts to our simple block diagram\n",
    "    - The system\n",
    "    - The inputs (that drive the system)\n",
    "    - The output (that the system generates)\n",
    "    \n",
    "At any given time one of the three parts are unknown, and the part that is unknown defines the problem that you are solving."
   ]
  },
  {
   "cell_type": "markdown",
   "id": "580e56e1",
   "metadata": {},
   "source": [
    "### The system identification problem\n",
    "\n",
    "- As a practicing engineer you won’t always be given a model of your system\n",
    "- You will need to determine it yourself\n",
    "- This is done through a process called **System Identification**\n",
    "\n",
    "<tr>\n",
    "<td> <img src=\"img/7.system-identification.png\" alt=\"7.system-identification\" style=\"width: 350px;\"/> </td>\n",
    "</tr>\n"
   ]
  },
  {
   "cell_type": "markdown",
   "id": "842ce304",
   "metadata": {},
   "source": [
    "- What is the mathematical equation that will convert my known inputs into my measured outputs?\n",
    "- What should I model?"
   ]
  },
  {
   "cell_type": "markdown",
   "id": "f3a764a7",
   "metadata": {},
   "source": [
    "#### Black box vs White box"
   ]
  },
  {
   "cell_type": "markdown",
   "id": "0d70f260",
   "metadata": {},
   "source": [
    "**Black box**:\n",
    "- You are given a box that you cannot open, but you are asked to model what is inside\n",
    "- Subject what is inside the box to various known inputs, measure the output and then infer what is inside the box based on the relationship between the input and the output.\n",
    "\n",
    "**White box**\n",
    "- Now you can see exactly what is inside the box (hardware, software).\n",
    "- You can write the mathematical equations of the dynamics directly (e.g. Netwon's equations of motion).\n",
    "\n",
    "For example, for a sping-mass system:\n",
    "\n",
    "<tr>\n",
    "<td> <img src=\"img/8.spring-mass-system.jpeg\" alt=\"8.spring-mass-system\" style=\"width: 350px;\"/> </td>\n",
    "<td> $$F = m\\ddot{x} + kx$$ </td>\n",
    "</tr>\n",
    "\n"
   ]
  },
  {
   "cell_type": "markdown",
   "id": "ebfd57a3",
   "metadata": {},
   "source": [
    "- Even the while box method might require to run tests and applying inputs to measure outputs to calculate the parameters of your system.\n",
    "- E.g., modeling a linear spring: you know the equation but what is the exact spring constant?"
   ]
  },
  {
   "cell_type": "markdown",
   "id": "13812d46",
   "metadata": {},
   "source": [
    "Usually, you need to do a bit of both."
   ]
  },
  {
   "cell_type": "markdown",
   "id": "194686cf",
   "metadata": {},
   "source": [
    "------------------------"
   ]
  },
  {
   "cell_type": "markdown",
   "id": "c4ec2270",
   "metadata": {},
   "source": [
    "#### Example: modeling a car"
   ]
  },
  {
   "cell_type": "markdown",
   "id": "1ceae881",
   "metadata": {},
   "source": [
    "Let's consider an example: car cruise control, using a simplified mathematical model.\n",
    "\n",
    "<tr>\n",
    "<td> <img src=\"img/9.car-uphill.png\" alt=\"9.car-uphill.png\" style=\"width: 350px;\"/> </td>\n",
    "</tr>"
   ]
  },
  {
   "cell_type": "markdown",
   "id": "db837b35",
   "metadata": {},
   "source": [
    "$$m\\frac{dv}{dt} + \\alpha|v|v+\\beta v = \\gamma u-mgsin(\\theta)$$"
   ]
  },
  {
   "cell_type": "markdown",
   "id": "0a1fe8e7",
   "metadata": {},
   "source": [
    "- Input: gas pedal\n",
    "- Output: speed (speedometer)\n",
    "- Disturbance: the slope of the road"
   ]
  },
  {
   "cell_type": "markdown",
   "id": "f39606be",
   "metadata": {},
   "source": [
    "Assumptions to simplify the model:\n",
    "- Thrust is proportional to how much pressure we put on the pedal and this directly translates into how much is open the gas valve\n",
    "- Frictions and drags are linear with speed\n",
    "- Small angles: $\\theta < 30^o$ so that $sin(\\theta) \\approx \\theta$\n",
    "\n"
   ]
  },
  {
   "cell_type": "markdown",
   "id": "9e28bc08",
   "metadata": {},
   "source": [
    "Using our assumptions, the previous model can be simplified a little bit as:\n",
    "\n",
    "$$m\\frac{dv}{dt} + \\alpha|v|v+\\beta v = \\gamma u-mgsin(\\theta) \\approx m\\frac{dv}{dt} + \\beta v = \\gamma u-mg\\theta$$"
   ]
  },
  {
   "cell_type": "markdown",
   "id": "ec193e5d",
   "metadata": {},
   "source": [
    "Before we simplify the model though, we can re-write it in a **standard representation** (state space representation):\n",
    "\n",
    "$$\\mathbf{\\dot{x}} = [\\dot{x_1}, \\dot{x_2}]^T$$\n",
    "\n",
    "\\begin{cases}\n",
    " \\dot{x_1} &= x_2 \\\\\n",
    " \\dot{x_2} &= -\\frac{\\alpha}{m}|x_2|x_2 - \\frac{\\beta}{m}x_2 + \\frac{\\gamma}{m}u -gsin(\\theta) \\\\\n",
    " y &=x_2\n",
    "\\end{cases}\n",
    "\n",
    "$$\\mathbf{x}(t_0) = x_0$$\n",
    "\n",
    "- Velocity is the derivative of the position\n",
    "- Two state variables: position and velocity\n",
    "- Two inputs: $u$ and $\\theta$"
   ]
  },
  {
   "cell_type": "markdown",
   "id": "38124f34",
   "metadata": {},
   "source": [
    "- The state $\\mathbf{x}$ includes the minimal amount of information at the current time to predict its behaviour in the future, only based on the knowledge of its future inputs.\n",
    "\n",
    "- In the case we have differential equations from actual physical systems we also need the initial conditions.\n",
    "\n",
    "- Note that there is no time in the equations above: **time-invariant** system"
   ]
  },
  {
   "cell_type": "markdown",
   "id": "902e9120",
   "metadata": {},
   "source": [
    "#### Standard representations"
   ]
  },
  {
   "cell_type": "markdown",
   "id": "edd9eb42",
   "metadata": {},
   "source": [
    "- \"standard representations\" are the bulding blocks of the engineering language\n",
    "- Analysis and design are based on having the system in a standard representation \n",
    "- Specific problems typically need to be translated into a standard representation\n",
    "- Control System Software typically assumes that the system is already in a standard representation (and expects inputs based on that)"
   ]
  },
  {
   "cell_type": "markdown",
   "id": "1056303d",
   "metadata": {},
   "source": [
    "We can code up our standard representation of the car in Python:"
   ]
  },
  {
   "cell_type": "code",
   "execution_count": null,
   "id": "2d3883a9",
   "metadata": {},
   "outputs": [],
   "source": [
    "class Car:\n",
    "    _g = 9.8 # Gravity\n",
    "    \n",
    "    def __init__(self, x0, params):\n",
    "        self._x_1 = x0[0] # position (along the road)\n",
    "        self._x_2 = x0[1] # velocity (along the road)\n",
    "        self._m, self._alpha, self._beta, self._gamma = params\n",
    "        \n",
    "    def step(self, dt, u, theta):\n",
    "        self.theta = theta\n",
    "        self._x_1 = self._x_1 + dt*self._x_2\n",
    "        self._x_2 = self._x_2 + dt*(-self._alpha/self._m*abs(self._x_2)*self._x_2 - \\\n",
    "                                    self._beta/self._m*self._x_2 + self._gamma/self._m*u - \\\n",
    "                                    Car._g*np.sin(theta))\n",
    "        \n",
    "    def speedometer(self):        \n",
    "        v = self._x_2\n",
    "        return (v,)  \n",
    "    \n",
    "    # Utility function to simplify plotting\n",
    "    def sensor_i(self):\n",
    "        # Rotation matrix to get back to the main frame.\n",
    "        R = np.array(((np.cos(theta), -np.sin(theta)), (np.sin(theta), np.cos(theta))))\n",
    "        x_i, y_i = R.dot(np.array([[self._x_1],[0]]))\n",
    "        v = self._x_2\n",
    "        return (x_i, y_i, v)"
   ]
  },
  {
   "cell_type": "markdown",
   "id": "ce6a4afe",
   "metadata": {},
   "source": [
    "We can linearise the previous model of the car around an equilibrium ($\\dot{\\mathbf{x}}=0$) as below. "
   ]
  },
  {
   "cell_type": "markdown",
   "id": "92037bc6",
   "metadata": {},
   "source": [
    "\n",
    "\\begin{equation}\n",
    "\\frac{df}{dx}=\n",
    "\\begin{bmatrix}\n",
    "0 & 1\\\\\n",
    "0 & -\\frac{\\alpha}{m}|x_2|-\\frac{\\beta}{m}\n",
    "\\end{bmatrix}\n",
    "\\end{equation}\n",
    "\n",
    "\\begin{equation}\n",
    "\\frac{df}{du}=\n",
    "\\begin{bmatrix}\n",
    "0 & 0\\\\\n",
    "\\frac{\\gamma}{m} & -gcos(\\theta)\n",
    "\\end{bmatrix}\n",
    "\\end{equation}\n",
    "\n",
    "which, at the equilibrium $x_1=0, x_2=0$ (note that $x_1$ really does not affect the result):\n",
    "\n",
    "\n",
    "\\begin{equation}\n",
    "A=\\frac{df}{dx}=\n",
    "\\begin{bmatrix}\n",
    "0 & 1\\\\\n",
    "0 & -\\frac{\\beta}{m}\n",
    "\\end{bmatrix}\n",
    "\\end{equation}\n",
    "\n",
    "\\begin{equation}\n",
    "B=\\frac{df}{du}=\n",
    "\\begin{bmatrix}\n",
    "0 & 0\\\\\n",
    "\\frac{\\gamma}{m} & -g\n",
    "\\end{bmatrix}\n",
    "\\end{equation}\n",
    "\n",
    "and\n",
    "\n",
    "$$\\dot{\\mathbf{x}}=A\\mathbf{x}+B\\mathbf{u}$$\n",
    "$$y=[0 \\; 1]\\mathbf{x}$$\n"
   ]
  },
  {
   "cell_type": "code",
   "execution_count": null,
   "id": "15a76607",
   "metadata": {},
   "outputs": [],
   "source": [
    "class LinearCar:\n",
    "    _g = 9.8\n",
    "    \n",
    "    def __init__(self, x0, params):\n",
    "        self._x_1 = x0[0] # position (along the road)\n",
    "        self._x_2 = x0[1] # velocity\n",
    "        self._m, self._alpha, self._beta, self._gamma = params\n",
    "        \n",
    "    def step(self, dt, u, theta):\n",
    "        self._theta = theta\n",
    "        A = np.array([[0, 1], [0, -self._beta/self._m]])\n",
    "        B = np.array([[0, 0], [self._gamma/self._m, -LinearCar._g]])\n",
    "        \n",
    "        x = np.array([[self._x_1],[self._x_2]])\n",
    "        U = np.array([[u],[theta]])\n",
    "        self._x_1 = (self._x_1 + dt*(A[0,np.newaxis,:].dot(x) + B[0,np.newaxis,:].dot(U))).item()\n",
    "        self._x_2 = (self._x_2 + dt*(A[1,np.newaxis,:].dot(x) + B[1,np.newaxis,:].dot(U))).item()\n",
    "        \n",
    "    def speedometer(self):        \n",
    "        v = self._x_2\n",
    "        return (v,)\n",
    "    \n",
    "    def sensor_i(self):\n",
    "        # Rotation matrix to get back to the inertial frame..\n",
    "        R = np.array(((np.cos(self._theta), -np.sin(self._theta)), \n",
    "                      (np.sin(self._theta), np.cos(self._theta))))\n",
    "        x_i, y_i = R.dot(np.array([[self._x_1],[0]]))\n",
    "        v = self._x_2\n",
    "        return (x_i, y_i, v)"
   ]
  },
  {
   "cell_type": "markdown",
   "id": "4c7a6723",
   "metadata": {},
   "source": [
    "#### Comments\n",
    "- Multiple models can be used to represent a physical system\n",
    "- There are a number of parameters in our models ($m$, $\\alpha$, $\\beta$, $\\gamma$)\n",
    "- Their value depend on the specific car you are modeling\n",
    "- It might not be easy to have good values for these parameters"
   ]
  },
  {
   "cell_type": "markdown",
   "id": "bced0630",
   "metadata": {},
   "source": [
    "## The simulation problem"
   ]
  },
  {
   "cell_type": "markdown",
   "id": "e834217c",
   "metadata": {},
   "source": [
    "- Predict how your outputs change given a known set of inputs and the mathematical model of the system\n",
    "- Usually a lot of design time is spent in this stage\n",
    "- It can be difficult to figure out the set of inputs and their range to characterise the operational envelope of the system\n",
    "\n",
    "\n",
    "<tr>\n",
    "<td> <img src=\"img/10.the-simulation-problem.png\" alt=\"10.the-simulation-problem.png\" style=\"width: 350px;\"/> </td>\n",
    "</tr>\n",
    "\n",
    "\n",
    "\n",
    "You need to run a simulation to answer:\n",
    "- Does my system model match my test data?\n",
    "- Will my system work in all operating environments?\n",
    "- What happens when...\n",
    "- Simulations can also be used to limit the number of field tests (which are usually expensive or might let you avoid dangerous maneouvers)"
   ]
  },
  {
   "cell_type": "markdown",
   "id": "66ce0ce3",
   "metadata": {},
   "source": [
    "If we go back to our Python car, we can now easily simulate it:"
   ]
  },
  {
   "cell_type": "code",
   "execution_count": null,
   "id": "bde32636",
   "metadata": {},
   "outputs": [],
   "source": [
    "# We assume we have identified the model parameters\n",
    "m = 10\n",
    "alpha = 1\n",
    "beta = 1\n",
    "gamma = 1\n",
    "params = (m, alpha, beta, gamma)\n",
    "\n",
    "# We select the car initial conditions (position and velocity)\n",
    "x_0 = (0,0)\n",
    "\n",
    "# We create our car\n",
    "car = Car(x_0, params)"
   ]
  },
  {
   "cell_type": "code",
   "execution_count": null,
   "id": "801114b7",
   "metadata": {},
   "outputs": [
    {
     "name": "stdout",
     "output_type": "stream",
     "text": [
      "simulation complete\n"
     ]
    }
   ],
   "source": [
    "# We define out inputs:\n",
    "theta = np.radians(20) # disturbance\n",
    "u = 0                  # Input\n",
    "\n",
    "# And finally we define the simulation parameters\n",
    "t0, tf, dt = 0, 10, 0.1 # time\n",
    "\n",
    "position = []\n",
    "velocity = []\n",
    "time = []\n",
    "for t in np.arange(t0, tf, dt):\n",
    "    car.step(dt, u, theta)\n",
    "    x, y, v = car.sensor_i()\n",
    "    position.append((x,y)), velocity.append(v)\n",
    "    time.append(t)\n",
    "    \n",
    "print('simulation complete')    "
   ]
  },
  {
   "cell_type": "markdown",
   "id": "58147f2a",
   "metadata": {},
   "source": [
    "Done! Now we can see what happened.."
   ]
  },
  {
   "cell_type": "markdown",
   "id": "e26e86cf",
   "metadata": {},
   "source": [
    "Let's plot the results:"
   ]
  },
  {
   "cell_type": "code",
   "execution_count": null,
   "id": "34a998ce",
   "metadata": {},
   "outputs": [
    {
     "data": {
      "image/png": "[encoded data removed]",
      "text/plain": [
       "<Figure size 432x288 with 1 Axes>"
      ]
     },
     "metadata": {
      "needs_background": "light"
     },
     "output_type": "display_data"
    }
   ],
   "source": [
    "fig, ax = plt.subplots();\n",
    "\n",
    "plt.plot(time, velocity)\n",
    "plt.xlabel('time (s)')\n",
    "plt.ylabel('speed (m/s)');"
   ]
  },
  {
   "cell_type": "markdown",
   "id": "0c6921d3",
   "metadata": {},
   "source": [
    "What happens if we simulate our LinearCar?"
   ]
  },
  {
   "cell_type": "code",
   "execution_count": null,
   "id": "0dea4e1e",
   "metadata": {},
   "outputs": [
    {
     "name": "stdout",
     "output_type": "stream",
     "text": [
      "simulation complete\n"
     ]
    }
   ],
   "source": [
    "# We select the car initial conditions (position and velocity)\n",
    "x_0 = (0,0)\n",
    "\n",
    "# We create our car\n",
    "car = LinearCar(x_0, params)\n",
    "\n",
    "# We define out inputs:\n",
    "theta = np.radians(20) # disturbance\n",
    "u = 0                  # Input\n",
    "\n",
    "# And finally we define the simulation parameters\n",
    "t0, tf, dt = 0, 10, 0.1 # time\n",
    "\n",
    "lin_position = []\n",
    "lin_velocity = []\n",
    "time = []\n",
    "for t in np.arange(t0, tf, dt):\n",
    "    car.step(dt, u, theta)\n",
    "    x, y, v = car.sensor_i()\n",
    "    lin_position.append((x,y)), lin_velocity.append(v)\n",
    "    time.append(t)\n",
    "    \n",
    "print('simulation complete')    "
   ]
  },
  {
   "cell_type": "code",
   "execution_count": null,
   "id": "df6a4ab9",
   "metadata": {},
   "outputs": [
    {
     "data": {
      "image/png": "[encoded data removed]",
      "text/plain": [
       "<Figure size 432x288 with 1 Axes>"
      ]
     },
     "metadata": {
      "needs_background": "light"
     },
     "output_type": "display_data"
    }
   ],
   "source": [
    "fig, ax = plt.subplots();\n",
    "\n",
    "plt.plot(time, lin_velocity)\n",
    "plt.xlabel('time (s)')\n",
    "plt.ylabel('speed (m/s)');"
   ]
  },
  {
   "cell_type": "markdown",
   "id": "53837dc6",
   "metadata": {},
   "source": [
    "- Multiple models can be used to represent a physical system and the complexity of the model depends on the objectives"
   ]
  },
  {
   "cell_type": "markdown",
   "id": "dd0ec07b",
   "metadata": {},
   "source": [
    "### More complex representation"
   ]
  },
  {
   "cell_type": "markdown",
   "id": "3ec90ee7",
   "metadata": {},
   "source": [
    "We can have much more complex representation of our simulation:"
   ]
  },
  {
   "cell_type": "code",
   "execution_count": null,
   "id": "496a581a",
   "metadata": {},
   "outputs": [
    {
     "data": {
      "image/png": "[encoded data removed]",
      "text/plain": [
       "<Figure size 432x288 with 1 Axes>"
      ]
     },
     "metadata": {
      "needs_background": "light"
     },
     "output_type": "display_data"
    }
   ],
   "source": [
    "# First set up the figure, the axis, and the plot elements we want to animate\n",
    "fig, ax = plt.subplots();\n",
    "\n",
    "ax.set_xlim((min(position)[0], max(position)[0]))\n",
    "ax.set_ylim((min(position)[1]*2, max(position)[1]))\n",
    "line, = ax.plot([], [], lw=4);"
   ]
  },
  {
   "cell_type": "code",
   "execution_count": null,
   "id": "2ea33062",
   "metadata": {},
   "outputs": [
    {
     "data": {
      "text/html": [
       "<video width=\"432\" height=\"288\" controls autoplay loop>\n",
       "  <source type=\"video/mp4\" src=\"data:video/mp4;base64,AAAAIGZ0eXBNNFYgAAACAE00ViBpc29taXNvMmF2YzEAAAAIZnJlZQAAJBFtZGF0AAACrwYF//+r\n",
       "3EXpvebZSLeWLNgg2SPu73gyNjQgLSBjb3JlIDE2MSByMzAzME0gOGJkNmQyOCAtIEguMjY0L01Q\n",
       "RUctNCBBVkMgY29kZWMgLSBDb3B5bGVmdCAyMDAzLTIwMjAgLSBodHRwOi8vd3d3LnZpZGVvbGFu\n",
       "Lm9yZy94MjY0Lmh0bWwgLSBvcHRpb25zOiBjYWJhYz0xIHJlZj0zIGRlYmxvY2s9MTowOjAgYW5h\n",
       "bHlzZT0weDM6MHgxMTMgbWU9aGV4IHN1Ym1lPTcgcHN5PTEgcHN5X3JkPTEuMDA6MC4wMCBtaXhl\n",
       "ZF9yZWY9MSBtZV9yYW5nZT0xNiBjaHJvbWFfbWU9MSB0cmVsbGlzPTEgOHg4ZGN0PTEgY3FtPTAg\n",
       "ZGVhZHpvbmU9MjEsMTEgZmFzdF9wc2tpcD0xIGNocm9tYV9xcF9vZmZzZXQ9LTIgdGhyZWFkcz05\n",
       "IGxvb2thaGVhZF90aHJlYWRzPTEgc2xpY2VkX3RocmVhZHM9MCBucj0wIGRlY2ltYXRlPTEgaW50\n",
       "ZXJsYWNlZD0wIGJsdXJheV9jb21wYXQ9MCBjb25zdHJhaW5lZF9pbnRyYT0wIGJmcmFtZXM9MyBi\n",
       "X3B5cmFtaWQ9MiBiX2FkYXB0PTEgYl9iaWFzPTAgZGlyZWN0PTEgd2VpZ2h0Yj0xIG9wZW5fZ29w\n",
       "PTAgd2VpZ2h0cD0yIGtleWludD0yNTAga2V5aW50X21pbj0yNSBzY2VuZWN1dD00MCBpbnRyYV9y\n",
       "ZWZyZXNoPTAgcmNfbG9va2FoZWFkPTQwIHJjPWNyZiBtYnRyZWU9MSBjcmY9MjMuMCBxY29tcD0w\n",
       "LjYwIHFwbWluPTAgcXBtYXg9NjkgcXBzdGVwPTQgaXBfcmF0aW89MS40MCBhcT0xOjEuMDAAgAAA\n",
       "DgdliIQAO//+906/AptFl2oDklcK9sqkJlm5UmsB8qYAAAMAABGwhj/Bdm1iAngOEfjyvtQ8DQmX\n",
       "rjVgK66ZKoSeRV26JNWLs6hd1+ABWEPpkVhfA76lvGltfn/wmxtKaBTssajJiYwLfJ92zbV5qvHX\n",
       "KaxuDu9es5y9LidoDbfPO2+zcYx3lH39NhTo7NCR3ReY35ujaTrueygPOmm9E9h3/LKxwI08pnUF\n",
       "L0DwKdZHtppWekc01Uklu9TigAAYM1x21bppuLAKFsIkJ/qKf/Eaz/XNLx5aOM9vquvKfLcb2ZWT\n",
       "4rycClqFcilmT/xFNd/y8OxG512h2fkmla7Ubd0p7AZ3u/fuvwZpG+43ve+gAkxDNkGH7lkYnBgM\n",
       "gYp+OVSpicL17wHyAdI3S9kprK8T7aJ6Phd/LxN7JeRuz97bNb1mAKlAMTwOEWy3pef8q5ib837L\n",
       "sKFxLxVdS6yylCnAMxM80ImEH5+1fEpiwMKYdjx8r/x7u0snaFegJYnHHCF6/nFzzRMc/bJIncVL\n",
       "2wcLTvFS/ebBNzWP9GdBvpV5Y0Yuchxzi/+wFThr4GD7oisWCOI1oVkxw+Q0UCX+Uu8p7BB4EoLV\n",
       "5XbweNMAf8Fwr322w+qQjyrvCokwxr4M0Siqsm/SXYxYwYgX7Sz8gFB6Zc/bopB/5QzZ/5nYOAlj\n",
       "Sv2vpNZN4J3+lV+NNQvggXlx5bYIKkrOyKNt6a2EqXf9tVcTezFRPrRKPSKv/6fb8f8LnanzK5Vc\n",
       "xY8Zgg/OkZLGtw1XdLD8366DGAssc4PVvD/h71d6wV+hF3ctewsUDz03SpvFi8qPoM+7d0uUmYOG\n",
       "nZZQ7nePbGdXIUCmskNLDoCz1JlxstnD48UEsKtcHplZRYDZNqSe7JI0H1JHpypHt6dKTr/fUCv7\n",
       "gYd2qy9LlobO9XK2jl4pZxrNrIYc47LKiA8IYgpjvNsmlVSPyQtq/8SueDg/y483LBhN+HD9NS38\n",
       "IQqoN7rsVl6R8wZoQcVDSaOAYvrUyNARM9xb4yCzvfRa9oSvDhaY3j9Vo7OlRrNaPac1g34T2doO\n",
       "sqFFjbTL7mme7JXgw00d4H9gJuQjkif6reWAsy1Z00CV8QqzQc2ovSy06QSYnBV2OaMBFRAqaJcE\n",
       "ew3yY6+xa9uE1ikEqO83sYN9GluB/0R1cQeYxdD/t9i+MKXGZq+6Z1raHGw6nrAHETRHBP/X7OKc\n",
       "0QUlovOGBLTdN76OGH7kNingPouV2l7e/xQuiW9vos6i0HAjmNlbPkdaJnK+14/4ftadZ1xFxYtL\n",
       "cGca172SK9E63cVHkYHJwqG2dDDGRNZRqeF3GVHZ9XGCu2l/vOKjQm5z2FVjqdAf0Gh6gA9pZ3zh\n",
       "hvRQz7VFvyzNrfgs3QFc/wC4zg2tsDJbvXLzUfePwNLVFeDv9W+gSne4ggATTi2mFKQDTYgk4Zbc\n",
       "ykS7aIGATXtngjVEDLbkr5bFOfId+eunDTwLWHcmDeTU7GubVIiHPgm07B0u8SLl8BR4LHH6Ec+g\n",
       "EKhRZtS+dYMzQ8AFGe3ZVllZBZmdCTK71qqpE3+ao2GhW+r54o0jOz/wWnQBCXdiMnGXbWConDOF\n",
       "dSz5/OFPDFK53LDta8UTkTLxUU1FQlisXYRJcVkGph4+pzw6RoFsSN8VPXIz7Q3+1lZCi7aG6/hW\n",
       "8SWfZQNj9Xvfz/d/LAn0OJFNBjAdhndoZQbQ496z4EdqzfiDJQ5pfAYp7dq/8M3A5rFV33EoCb5f\n",
       "4lVIJ/thmT9Yh5x8L0MhLR/tuiTtF6k8mF5mwaptZsKTjZsSeitOKU9zrsHTQXYSLKXhyA1WB8qq\n",
       "QNin5MYdFS6pqIT5YF6XovlEDs9y1q8NJ5hEIeimDFY1TSA3jgDjJ/oGyBOkfQ2CMIckdtlbMMU5\n",
       "59FZxp4Lpnw7YQj0o8pQpHao2ACegXnfcA45+u1q4eYRo50JIX4EENxNdYF+9EOzGO9VeOJK15Dx\n",
       "oMLQBTztiVIhFnFXEZr0lpj1fnbNH25DRFXiR4mviFP+OgPXf0092eCCWVmyEhp03PWgmwRnDdWC\n",
       "gRzehnkMXG9QOfGR1TKOvWybaTAwp0azBvjCVO7YGFmIxBtwAO+63/wEltKp7xq4obDmhAW4OTBi\n",
       "ZmMSxInmR9SHu0Szz8C0wJmFux9C6Z5NzdgCFjGW7Ss7+Tf4SxlMqVyzcepTt7YG4pohh316WGD2\n",
       "XJo1q9fhftua9pEbgLxqWv7rHRRe6B0WXqEuvCHERVwRSDQptzHnD3eRh4paRSpIGs2OKFQhiM7J\n",
       "a/w0FxKOTc5oApuBJ0RF/1zq+1d0Cus/Bch8fDsokgqAigK7kI+GZ9KfJ2gDPEOByMDa9MHztXs8\n",
       "mop1UZ1opdl+iImKSJ3p3COy7gitslURcm1C/Mstg9q7XRVGtMSYIYHq7bRqg2Z9uQBxCCwtMbyD\n",
       "SzGGNT2vZSw2aiNbwdF7q1NceiejMicnU1EPciLIigC3vXzQyM3LiMxbNH5l1WB4cGCJX65rzruo\n",
       "V6yZgiWyFxy/Rc2z0+ekZq9tpwSLJOzxMrySxoS8vO0LYlb3r3RXIEeKj2OA93nJKt8AgX4W8kmO\n",
       "BYip9YtryrdKnHEAULAGmJOVLrsgIVtoYtuZEOe/SEHv26PUQzbkiCROYsV1MSSD9mZ8RZuvzTe+\n",
       "vtKa+d1Voz684S214QK2S18okOsW6cj9kLK3qVuBu+mIX9abTZt4vXc8VGj9ODLoEW0q5h5vKtmT\n",
       "4R340QgdjQoTKbA8MlKHO9QpPMV6wQdWlM9WdNPazKRwEpK8HeQgB7+sMD8jVZqbCY07TmPd5Ww1\n",
       "7BS4O8eX5eWRYhcSQ3rIV7corIuatM0p8E0Lmy30X+OH1TQRB+XIu9+/ixIsrfmHIAAJO/1ZW7h9\n",
       "0YymgnWzNhYQjXdpeJF4WJdTonmPwrW1an/K+Vj1PTIID1T0PkL5uD4/7W0I/wzeIf+jbF5dzX6h\n",
       "08PO6BhDLJB8/CohOZoCI8B+csQcihfNN5CdO6R1DbNUTPFVzdaeRbBc36hL52mR7aKBFOkJalcX\n",
       "QK2pOj2sk40dgxJh60h143AAAPu5hzRDyYwx3Heti2Si2zSPbluHb8YWmz91mDBu/hbtL8dBDWNy\n",
       "Vtz2ssHZBA8Xw0P6PDbIzne12mCRahu4mnBDHVrzqxxkIVHHT60VhM5sHBlCrZJc5jd/5wU0oQGI\n",
       "JDphE7M+jrFkw7g/Ie5JbxRzgJLe1CwaIrD74Kig5GITtvsOIneHHstefJR99NC/BEYl3a4K1Qh+\n",
       "6gsNVZZi8OSNudvUqLTbT5BrCNoO45B3JiFADwnbFUaHsXIM8kvbshYFZuf1FZirA0UiNUX8UOzp\n",
       "DubnRsujBlE4qCBmvbxBjyn2Koh59kVeOE1AFMElc+kBKxVfbXx+EhQyJSZHfrFGSQaFHLW3jFEH\n",
       "rDQd0flQHWTndQtdOc8NzzRW/RqoteBFwHUllWH6OAKEWcLmQw45uvjLR6OGfYYHk1+MhBaWQ+GU\n",
       "/WMJsz1hrLZTN/GE6bGWnPveMaN1GzT7K/G4ZAVHWAPwJIblAOQmPhacV2/7U82nyyi5AUdaZJak\n",
       "TCR6Ypc7E9rH8uQkqkQHOI6hKXQB2zL/oS9pYlfhhOWyHovZUl9ZmJPXM518GYSGcmEB1P4YYGdN\n",
       "x8N32L6EXsrPOhembRze+g0vWfF69uRLiHucf4IVXv4byQ1/YGRKqKaV7PaJqFUo9Tsgf0KOa1TU\n",
       "zWL6nazO40+fvifPJ/riN3wX8YyH6APmhpgDvmx79UE76mLJ5dkaGfypPcYliOK04ovvQvWvZvvB\n",
       "uH1rqw+h5PvSAqAXL61PI/HYG0YozNM4jKUofhfToDNtKvxVQ0jtU6uRGTHz+pjLPmpYPjXXZLLH\n",
       "eYNKKdhYErvHQDxOZK0Q8rWDOBcC0fXHQlDVDtPBmqgOfQ+WQ3aspBgoZjaMz96S+Wbd63hnCPen\n",
       "9Bm4gs1jxOPiMon7sCwJt4z+Gc3Lu2i32u6mUrHh13xLUs+hDM3ZpN6/yPzHXfTMq+rdLEaTAxLu\n",
       "C/aXkKbwg5ceB0LuCGnvNBP8pZovoMRFETd6wH4+v/Lt2kqhCOHIbQ/dncB71GqwyANyZY99b0/4\n",
       "nWQgos9tlgYyMVnZWxTUBF4OYI5QoUKtOaBPHwOVc8RNf2mw29sJrB91Xf8wHdBuNEf7HnDMfclz\n",
       "aLMqzVcagFi+DEiTyJanzxgbNiwTMvQrdRiUfikNGDnTQSgH4kc8+c4Qpx/WHbsPVAmR2VOIsYfk\n",
       "t4Up3uP1j0tp0DgcNNWDkjwM+qJSxfOthlzpfegb1ijDQ7Tx+fzg4J4vtHiaVIXdZ3ZV11vprtZL\n",
       "FcI1KmswUi5cE1aZpf6RHAjMPfGI5cbgb8VvHChOEBLxjHn2pcxt2fQGrpLI03+6T+uJc4RTvb/V\n",
       "5ffrj6SCvPF58Hrs3ulutsf00JOqvHpJHLS9Yvot4Sp3cQNNuJYHhdpFqEEG3VdBgC3GUg/0i1F0\n",
       "ce40iNwT6lj0Ct1O24JhlfjaxwEoI9DQh7/YMG+9f0v+7w0GQmY2cXL2H5+eAAv9yWf9DV4SK/zU\n",
       "uP0qynDC7G/AlasislDkYx79RNDmOccczZSrOjq7WLvudJRH+eBLYU7VsYmDqxURIELnNqeBrHut\n",
       "G674Tieix6IY1m9GlUmZAuDG7PKmjFYJrCr7dfn4w6YhLXaHHMmP8zydCSI+e8AZj4xm/K2Zo25W\n",
       "NBFXbZIe5sBcZauNgc2z3I0oxFbMMeEgfk8QZh+JJwUESvKrszJUQh4wzxXXiQZAAAADAAD4kS11\n",
       "Bi0AAAGvQZokbEN//qeEA1/I2UUQuIBhgAADk/5tWVIyq9AsM5hlSN8gTsXJyjclpOPh3qsEkCJp\n",
       "m61G0FaAuQ0s+xONIdJJ/Zdvsa51bCvaEsD9b+fassdPBxOBOsgu4721PDGDHcMmZJGoUKGzfmpl\n",
       "zGgX6ozmsZ3pU/GS+FM6UUNWqpcT79uoSxIpDfWOy/6H/URKPyFfToZyxHnocQFwIAff/FzOdg7t\n",
       "zP4xs0fLn/Qnu5DyjHifjlQncbkhPCbKas2oxQT7u/I8sgPB/ymoyK4W3fpg+un3fV6nnb+Y4Y+H\n",
       "wlB5b/jk4xOWWJxmGvrhC5+1xbtaJ8SYBmnBp9b7Ofu92q1fNlvY3WOgNbjOBdo3c3/j5vamcTaP\n",
       "DubsVXOtH8sE8vAduVbaFFgxgmgCAzdCztn7zgd65kcwQIVsBd/c0C9DYF1LvCmoCK3uDvcP1HT/\n",
       "xwhjZ1myi6ccmBGIZElIj+fQt9yHNebLJxvYd968bHPgQY73I6QNMELBeTstcH/EB6zoqMxsouHF\n",
       "XVIVm8FGboFRxZe3vw7DhG9C1oMDyn8DhIra0QlsU87Vn3FQSkAAAABOQZ5CeIX/AUhiwWa4nizR\n",
       "+HVxAAAN6u0gAnWi0HmcNpga4/NUyzEKEFDnVUdURno41FZOQ1DDL02IJZm9pID0Cma3Ds7BbbOz\n",
       "+Kw6yF0pAAAASgGeYXRCvwG6/y22ilJnT7oEAAADABKhqmWslCBVX1tSVWE/ldJ4dbhYLjYouymR\n",
       "vh4XHOZgf0ce8G8QAgGAIoPukthd2GCeSRMKAAAAMwGeY2pCvwC6WAaNTvXQyn+6VE8y8VbtQsWi\n",
       "rAmLUUcwY7KdWfpUAEGwBFB+6GhC6jBnQQAAAGhBmmdJqEFomUwIb//+p4QBBB2HQuAD+gEJtrEu\n",
       "9cI80/3bstAJQmMwZAYcJpMOBd4WFBAV3ieDVY8sOS5oHYc73cNaDffAOq2IQklO6dajWIS9kd/5\n",
       "ogU9SzfgPQSv/4Iv5QlfzDABEQAAAD5BnoVFESwr/wDXtKN3TUALcGqP4Di0b5CpH8jp8OsWhZHJ\n",
       "m2dSjwihT9o1LKm/kRpIMH7wpHtGSROFpLB2wQAAACoBnqZqQr8BsXSWMN3s6ONaNUiPyLWvVjC5\n",
       "9apgnVvZfHrA1OgGO6lbsZsAAABzQZqpSahBbJlMFEwz//6eEAPx5ACtgBLJnCfXIMFcKH9MPwZD\n",
       "M0m3OPDOVOOYwuZjiBaSuHv7kThdlwlFb4/76wzwFEn9iBiLC5yYF/+DdjoMQNmbs66hck3QeJOp\n",
       "qV8BkGz23pLwffmOUDqJTqwmdiGa8AAAACsBnshqQr8BsbAsHF2EprLdXXIodX2QjY7ZRF1KCSHd\n",
       "kWqfM+wE40S0RogoAAAAXUGayknhClJlMCG//qeEAQPnrfKJ1SW1y4AQolV/3ia6AfdxgSZUIEkH\n",
       "4rNLlbPBWcN+rh8AogtDYLZfJrQb74B1WxCEkp3TrSuDcOc9DygZyIIpDx/5y/OSR5dvQQAAAEtB\n",
       "mutJ4Q6JlMCG//6nhAMlyNeQnReRhlgA7S0pCzcT3M5rP8ledmLgx8Gn6Mw62IbMKay0KeP7QrDC\n",
       "DmdiMSsFcOqYXZ/crSvlMnMAAABVQZsMSeEPJlMCHf/+qZYAg/0LbL8YfUrqAC3cFhhAReWZX+7l\n",
       "ty1eonTwWQu1m6WCnMAaf4hReguqaXbNiR9NZ+32+gKdiw8q4NxmQwzERjkLJgPueAAAAFNBmzBJ\n",
       "4Q8mUwIb//6nhAENiyPFKoe4AMu9tQPpfvaMlm7xUrK+M1pT0eAp0ssovfk1oNp79u+guqAXaI2Q\n",
       "LHw3t5fbPeySarttkaTNhWbV/PJ68QAAAE1Bn05FETwv/wE/yMRe3Lb7YSADWsCdNMX2kQY1BwFH\n",
       "kF0GQWElU5aNDFsOIJ9J46Wld1P2fJBwzAbmuSzcEgMqZ53fKNdlnrAIToak4QAAADcBn210Qr8B\n",
       "rM7/A+GfBqjt3GZR2wAG0FR7nn/9WvrhLDu56ZgpA9Eroq2Z0Qx3MzKNbCisZerfAAAAMQGfb2pC\n",
       "vwGszv8CIUZraqJIIsBAAfn/UnnMIXWIHGN6iofpHAPyxi1YfQy2BJD/GiYAAABVQZtySahBaJlM\n",
       "FPDf/qeEAQv5eSkaZvxgADPKU1M4SBVxeo/TMMOnepUKhUhp4ON8e91nm9G6eHy4Df2MapvBB1x+\n",
       "FbHdECrIgw5WrwNEVxvZOljs8AAAACEBn5FqQr8BrM7/BBJA0oZcxYUcfb0oKK24MMywUXbXOiEA\n",
       "AABlQZuWSeEKUmUwIb/+p4QBFdzv8PcEDgA5y4GydhH9fDl4lJS0hZMuVf+zD56Or0HFIq1a51ma\n",
       "mkfxHP5q3iqh2T/CGxT1NXAOI5BHk/vzOvZEHXLAEgNPiEujDvU1+ILa/KpAesAAAAAfQZ+0RTRM\n",
       "L/8BO6TtVUCOjOUrz+AhMmbiQdJgVSKqDAAAABYBn9N0Qr8BsP7OZDtaD+O/LE2nwBjxAAAAFwGf\n",
       "1WpCvwGxdM7rq1oQ71BkOqIMYCbgAAAAPUGb2EmoQWiZTBTwz/6eEAQvo7LVKRBJfi5cYAKtntMc\n",
       "GxOn3BIA2QU0LleLao4l2sLfbVYcc/KRL5jbwy8AAAAZAZ/3akK/AbGw05ulrRBR8MO3t7PsbEbZ\n",
       "AQAAAC5Bm/lJ4QpSZTAhv/6nhAEV+lwuxceosK1AC3CMykoERtUdI2+EfQCt/4s98AOCAAAAM0Ga\n",
       "GknhDomUwIb//qeEARVarraenxgE1fMCqoAH4SaGr89DUzbJ5NkLtZhVnpPpvSAS8QAAACFBmj1J\n",
       "4Q8mUwIb//6nhACTSuGpVXOykNux+7fP0jWgOWAAAAAVQZ5bRRE8K/8AdtkjLCK7S3glC6z1AAAA\n",
       "FQGefGpCvwB2liA1AXBXsxkGzMAL2QAAADVBmn9JqEFomUwU8N/+p4QAko83bXYUgA/nt9NO/iNr\n",
       "fyEcUe63RRMzwjtqQ43AD4vNt+hjQAAAABYBnp5qQr8AdqKXwsoIZaVFwpCCwUS8AAAARUGagknh\n",
       "ClJlMCG//qeEAJaPdBg3OoASS6WSIHVj78hg9ci6G/HlgQVAxPCubSr4fSUnQyKkLzP6QYy/5JGo\n",
       "uYkLCrTj0wAAABlBnqBFNEwr/wB5mSmqoQ7C06UWtMMRXSA1AAAAFAGewWpCvwB5lUh1JErP6qM7\n",
       "kDUhAAAAM0GaxUmoQWiZTAhv//6nhACW9K3djmC3sVXslXaQBEZwpPi++uX06R2b6RgZqz86ynrH\n",
       "zAAAACFBnuNFESwr/wB5lUh06hmWgA5elR91qATsauSZ/SAJqy8AAAAXAZ8EakK/AHjL9ul6p1nc\n",
       "HAQlSFfoTMEAAAA+QZsGSahBbJlMCG///qeEAJaf5qiuAOZcDTE6xPQHl5YUUiZZc9OikXzZ1Og1\n",
       "+rSxEDBLJvokbjjeyv0AbMEAAAAnQZsoSeEKUmUwUVLDv/6plgBOF+8YDiwbFfDprlSADhQaMvXw\n",
       "ngP9AAAAGgGfR2pCvwB5gOYlGJX/AB3f4TtArKgrKKB0AAAANEGbTEnhDomUwIb//qeEAE9xVkyh\n",
       "2AAbGx8emzd3du6StgUmzl92kj9fCzqUduGJSerDEbUAAAAaQZ9qRRU8L/8AXS1cjBhyryd4KSWq\n",
       "EMQZLfkAAAATAZ+JdEK/AD95rEFbOCJxPkAIuAAAABIBn4tqQr8AP3FMIdTU0dOAA6oAAABBQZuP\n",
       "SahBaJlMCG///qeEAFHAG4VwSlPRVE8cBADYhvxB9r9H1JuRK1pYGHBIDDQVWabv37aQFOZNZyZ6\n",
       "X28WqGUAAAAeQZ+tRREsK/8AQXXgbTD/d+AATi3LFKM8G4Y/ldLVAAAAIAGfzmpCvwB/RCUm1Ui4\n",
       "f1+31ACtdkK/qzGz12ieyDKhAAAAJEGb0UmoQWyZTBRMN//+p4QAUcO0/peFfTAlCQDcnOzvOYuI\n",
       "+AAAACUBn/BqQr8AfGvUh6HvM2bO7ACwKYaqkP6h1NRdKzZ0jJKsQiWgAAAAJ0Gb80nhClJlMFLD\n",
       "f/6nhABRwBnYrcf0wWeAAd3kXcaYzpqqYtQY0QAAABUBnhJqQr8AQV2vtkfn6wxJh9gg/4AAAAAz\n",
       "QZoVSeEOiZTBRMN//qeEAFI5l2o6kBnYrvurQAlfkC9ruGlZGkfPvU3p5lFIFL7BkFBAAAAAHwGe\n",
       "NGpCvwBDgyZpv2JmsaRAAE6YAALeEIGn6dIgISEAAAAwQZo4SeEPJlMCG//+p4QAVHmXajrJAL+S\n",
       "QNB0PW8I/cgBNLF8GGKCKtBrHIbkqDegAAAAGEGeVkURPCv/AENkhp42yE9eWtFh6qKX4QAAABAB\n",
       "nndqQr8AIq7X2qhgVAD/AAAAPEGae0moQWiZTAhn//6eEACsV45Z79IAblsjSKwUb1gRMdPYg/m3\n",
       "sq4JM9Rl+FKV8tE9GiYfAjQ3m8JBiwAAABhBnplFESwr/wAjuueh5sHzPk+wtUeDDtkAAAAVAZ66\n",
       "akK/ACPBIvp7OJZQ7X2vfDPgAAAAH0GavEmoQWyZTAhv//6nhAAsOGwgUxAHw2e23nnjBD0AAAAs\n",
       "QZrfSeEKUmUwIZ/+nhAArHeyXWqDIAC0s6MtBfaygpcIaJHO0Z4yfq+TBN0AAAAbQZ79RTRMK/8A\n",
       "I68XD5hLxcHi17oOx+E4iWnQAAAAGQGfHmpCvwAjrtfbJBt8KBR1hGbm5QYIZUAAAAAsQZsASahB\n",
       "aJlMCGf//p4QAKxWmNp1+bRd7ACrQECWCmuvLjLUpblLAJyENWEAAAAyQZshSeEKUmUwIb/+p4QA\n",
       "LH7wobb3dNt0eAD+hSGvRkgwnp1BK20CuWKy80Q/ccQ4hqwAAAAlQZtCSeEOiZTAhv/+p4QAF15l\n",
       "1+lYxtAAATmQfVBIcfF9lfKDKwAAACJBm2RJ4Q8mUwURPDf//qeEABdA7Q7lH6/AWYyOf+jsrkJO\n",
       "AAAAFQGfg2pCvwAS3LveZTkPLhXWVlDAaQAAADFBm4dJ4Q8mUwIZ//6eEABc+9u5ZOwcAVtqljZZ\n",
       "ekjQdplGN+4iS+7dLEZw513XuQxZAAAAGkGfpUURPCv/ACRKpJx4o5pD/jsKOLLoLm3BAAAAFQGf\n",
       "xmpCvwATXXIVYWucOm/ENWQQ8QAAADBBm8hJqEFomUwIb//+p4QAF9c2D9YACNVVbXOqyugFl7v1\n",
       "6PBKXoifCRlRBqMSGpAAAAAkQZvpSeEKUmUwIb/+p4QAF+QZ7/Iysl9ArrS98Zdc1DQ4jsWAAAAA\n",
       "LEGaDEnhDomUwIb//qeEABfbBnYrl3wACYVuPbwiR/hZfuyfdUDNxBFcxwypAAAAHEGeKkURPCv/\n",
       "ACS+slnN6oc1kXdK6jy08OSSG9AAAAAZAZ5LakK/ABMcqinZH5iwTTQ1MlCOiTD8gAAAACZBmk5J\n",
       "qEFomUwU8N/+p4QAF/4TzR5++uxW8eAD6JAZGvBE3gcRjQAAABsBnm1qQr8AJMGadEUISe40yInu\n",
       "lGeG2TknkyEAAAAmQZpwSeEKUmUwUsM//p4QADDz7GS14XXsVAB+olu924XziZKhGNEAAAAcAZ6P\n",
       "akK/ABOrMkv1aqlfWwPpmAE4I1xs3mBsrgAAACBBmpFJ4Q6JlMCGf/6eEAAw9rIKR7BoAFas3e3A\n",
       "U1aKaAAAACNBmrJJ4Q8mUwIb//6nhAAMjfaHcor0AEBrpyFZf2K1YGOGLQAAACxBmtNJ4Q8mUwIb\n",
       "//6nhAAMj//Fu+sVPABpw/gNtFADFgbRxs7R17biRkhJwAAAACpBmvZJ4Q8mUwIb//6nhAAM26jj\n",
       "AJn38iAfoAK8lYsrB8nOU3vlUzE8VMAAAAAeQZ8URRE8K/8AFHzZJLMh1jeBUQm34NdE4zkFWetJ\n",
       "AAAAFgGfNWpCvwAUewDS1odWp5LNvhJDakAAAAAuQZs4SahBaJlMFPDf/qeEAA0sXJADcIPy3NFP\n",
       "PrdH7zInrC1mbbDwsBOaUtDHzQAAABgBn1dqQr8AFHah5oSq7OLGK/tAfSlrdPUAAAAxQZtbSeEK\n",
       "UmUwIb/+p4QADS2oOT4nZw8K4XblAA/fT6Erf8qV9xCcrmdxgEBN3lUlNAAAAB9Bn3lFNEwr/wAK\n",
       "zXti96U9ETMgBIjjulB3tY/JgIT9AAAAHAGfmmpCvwAKzXtkLalsTVckKYAO7+eNlPJMBJwAAAAd\n",
       "QZudSahBaJlMFPDP/p4QABp3puxqOSsZlOGrSZkAAAAbAZ+8akK/AAWJPKUk8ADj0CdpPMIaZBYj\n",
       "986BAAAAIkGbvknhClJlMCG//qeEAAbAy6EN8NaW9V1DHJa5X1aKff4AAAA8QZvBSeEOiZTAhn/+\n",
       "nhAAGvdyAAA4WPjLpUGtiPeAPJsqm6SD2Q3QTJ761QMJPPtLxKl/ujryW5JTgj0gAAAAGUGf/0UR\n",
       "PCv/AArLUPNCVXZi1fh7yPNxXX0AAAAhAZ4AakK/AAWuzmIATLWocebpXCafkuIBWzNyXixa/5m4\n",
       "AAAANEGaA0moQWiZTBTwr/44QABphz2eM8wARB5yi+CYiYo7+QhjmnxS6qDMUHEnWPIfpHDg8k8A\n",
       "AAAkAZ4iakK/AAWbibki7+VAAP6Fr47WGEW2XJ7oD0y0gaUbChTYAAAHOm1vb3YAAABsbXZoZAAA\n",
       "AAAAAAAAAAAAAAAAA+gAAA+gAAEAAAEAAAAAAAAAAAAAAAABAAAAAAAAAAAAAAAAAAAAAQAAAAAA\n",
       "AAAAAAAAAAAAQAAAAAAAAAAAAAAAAAAAAAAAAAAAAAAAAAAAAAAAAAIAAAZkdHJhawAAAFx0a2hk\n",
       "AAAAAwAAAAAAAAAAAAAAAQAAAAAAAA+gAAAAAAAAAAAAAAAAAAAAAAABAAAAAAAAAAAAAAAAAAAA\n",
       "AQAAAAAAAAAAAAAAAAAAQAAAAAGwAAABIAAAAAAAJGVkdHMAAAAcZWxzdAAAAAAAAAABAAAPoAAA\n",
       "BAAAAQAAAAAF3G1kaWEAAAAgbWRoZAAAAAAAAAAAAAAAAAAAMgAAAMgAVcQAAAAAAC1oZGxyAAAA\n",
       "AAAAAAB2aWRlAAAAAAAAAAAAAAAAVmlkZW9IYW5kbGVyAAAABYdtaW5mAAAAFHZtaGQAAAABAAAA\n",
       "AAAAAAAAAAAkZGluZgAAABxkcmVmAAAAAAAAAAEAAAAMdXJsIAAAAAEAAAVHc3RibAAAALdzdHNk\n",
       "AAAAAAAAAAEAAACnYXZjMQAAAAAAAAABAAAAAAAAAAAAAAAAAAAAAAGwASAASAAAAEgAAAAAAAAA\n",
       "AQAAAAAAAAAAAAAAAAAAAAAAAAAAAAAAAAAAAAAAAAAAABj//wAAADVhdmNDAWQAFf/hABhnZAAV\n",
       "rNlBsJaEAAADAAQAAAMAyDxYtlgBAAZo6+PLIsD9+PgAAAAAHHV1aWRraEDyXyRPxbo5pRvPAyPz\n",
       "AAAAAAAAABhzdHRzAAAAAAAAAAEAAABkAAACAAAAABRzdHNzAAAAAAAAAAEAAAABAAACiGN0dHMA\n",
       "AAAAAAAATwAAAAEAAAQAAAAAAQAACgAAAAABAAAEAAAAAAEAAAAAAAAAAQAAAgAAAAABAAAIAAAA\n",
       "AAIAAAIAAAAAAQAABgAAAAABAAACAAAAAAMAAAQAAAAAAQAACgAAAAABAAAEAAAAAAEAAAAAAAAA\n",
       "AQAAAgAAAAABAAAGAAAAAAEAAAIAAAAAAQAACgAAAAABAAAEAAAAAAEAAAAAAAAAAQAAAgAAAAAB\n",
       "AAAGAAAAAAEAAAIAAAAAAgAABAAAAAABAAAIAAAAAAIAAAIAAAAAAQAABgAAAAABAAACAAAAAAEA\n",
       "AAgAAAAAAgAAAgAAAAABAAAIAAAAAAIAAAIAAAAAAQAABAAAAAABAAAGAAAAAAEAAAIAAAAAAQAA\n",
       "CgAAAAABAAAEAAAAAAEAAAAAAAAAAQAAAgAAAAABAAAIAAAAAAIAAAIAAAAAAQAABgAAAAABAAAC\n",
       "AAAAAAEAAAYAAAAAAQAAAgAAAAABAAAGAAAAAAEAAAIAAAAAAQAACAAAAAACAAACAAAAAAEAAAgA\n",
       "AAAAAgAAAgAAAAABAAAEAAAAAAEAAAgAAAAAAgAAAgAAAAADAAAEAAAAAAEAAAYAAAAAAQAAAgAA\n",
       "AAABAAAIAAAAAAIAAAIAAAAAAgAABAAAAAABAAAIAAAAAAIAAAIAAAAAAQAABgAAAAABAAACAAAA\n",
       "AAEAAAYAAAAAAQAAAgAAAAADAAAEAAAAAAEAAAgAAAAAAgAAAgAAAAABAAAGAAAAAAEAAAIAAAAA\n",
       "AQAACAAAAAACAAACAAAAAAEAAAYAAAAAAQAAAgAAAAABAAAEAAAAAAEAAAgAAAAAAgAAAgAAAAAB\n",
       "AAAGAAAAAAEAAAIAAAAAHHN0c2MAAAAAAAAAAQAAAAEAAABkAAAAAQAAAaRzdHN6AAAAAAAAAAAA\n",
       "AABkAAAQvgAAAbMAAABSAAAATgAAADcAAABsAAAAQgAAAC4AAAB3AAAALwAAAGEAAABPAAAAWQAA\n",
       "AFcAAABRAAAAOwAAADUAAABZAAAAJQAAAGkAAAAjAAAAGgAAABsAAABBAAAAHQAAADIAAAA3AAAA\n",
       "JQAAABkAAAAZAAAAOQAAABoAAABJAAAAHQAAABgAAAA3AAAAJQAAABsAAABCAAAAKwAAAB4AAAA4\n",
       "AAAAHgAAABcAAAAWAAAARQAAACIAAAAkAAAAKAAAACkAAAArAAAAGQAAADcAAAAjAAAANAAAABwA\n",
       "AAAUAAAAQAAAABwAAAAZAAAAIwAAADAAAAAfAAAAHQAAADAAAAA2AAAAKQAAACYAAAAZAAAANQAA\n",
       "AB4AAAAZAAAANAAAACgAAAAwAAAAIAAAAB0AAAAqAAAAHwAAACoAAAAgAAAAJAAAACcAAAAwAAAA\n",
       "LgAAACIAAAAaAAAAMgAAABwAAAA1AAAAIwAAACAAAAAhAAAAHwAAACYAAABAAAAAHQAAACUAAAA4\n",
       "AAAAKAAAABRzdGNvAAAAAAAAAAEAAAAwAAAAYnVkdGEAAABabWV0YQAAAAAAAAAhaGRscgAAAAAA\n",
       "AAAAbWRpcmFwcGwAAAAAAAAAAAAAAAAtaWxzdAAAACWpdG9vAAAAHWRhdGEAAAABAAAAAExhdmY1\n",
       "OC40NS4xMDA=\n",
       "\">\n",
       "  Your browser does not support the video tag.\n",
       "</video>"
      ],
      "text/plain": [
       "<IPython.core.display.HTML object>"
      ]
     },
     "execution_count": null,
     "metadata": {},
     "output_type": "execute_result"
    }
   ],
   "source": [
    "# draw terrain\n",
    "def terrain(theta_rad, x_0, x_range):\n",
    "    y_range = theta*(x_range-x_0[0])+x_0[1]-10\n",
    "    close_triangle = (x_range[0], y_range[-1])\n",
    "    x_range = np.append(x_range, close_triangle[0])\n",
    "    y_range = np.append(y_range, close_triangle[1])\n",
    "    X = np.matrix([x_range, y_range]).transpose()\n",
    "    patch = plt.Polygon(X, color='yellow')\n",
    "    return patch\n",
    "\n",
    "x_range = np.linspace(int(position[0][0]), int(position[-1][0]), num=20)\n",
    "patch = terrain(theta_rad=theta, x_0=x_0, x_range=x_range)\n",
    "\n",
    "# initialization function: plot the background of each frame\n",
    "def init():\n",
    "    ax.add_patch(patch)\n",
    "    return patch,\n",
    "\n",
    "# animation function. This is called sequentially\n",
    "def animate(i):    \n",
    "    #line.set_data(time[max(0,i-2):i], position[max(0,i-2):i])\n",
    "    x_min, x_max = position[max(0,i-2)][0], position[i][0]\n",
    "    y_min, y_max = position[max(0,i-2)][1], position[i][1]\n",
    "    line.set_data([x_min, x_max], [y_min, y_max])\n",
    "    return (line,)\n",
    "\n",
    "\n",
    "# call the animator. blit=True means only re-draw the parts that have changed.\n",
    "anim = animation.FuncAnimation(fig, animate, init_func=init,\n",
    "                               frames=len(time), interval=40, blit=True,\n",
    "                               repeat_delay=10000, repeat=True);\n",
    "\n",
    "HTML(anim.to_html5_video())\n",
    "#anim"
   ]
  },
  {
   "cell_type": "markdown",
   "id": "4420f2d5",
   "metadata": {},
   "source": [
    "----------------------------"
   ]
  },
  {
   "cell_type": "markdown",
   "id": "da54d924",
   "metadata": {},
   "source": [
    "## The Control Problem"
   ]
  },
  {
   "cell_type": "markdown",
   "id": "a2bf106c",
   "metadata": {},
   "source": [
    "- We know the model of the system \n",
    "- We know how we want the system outputs to behave \n",
    "- We can determine the appropriate inputs through various control methods.\n",
    "\n",
    "_Control problem - how do we generate the appropriate system input that will produce the desired output?_"
   ]
  },
  {
   "cell_type": "markdown",
   "id": "18bffa4a",
   "metadata": {},
   "source": [
    "- Control theory gives you the tools needed to answer this question. \n",
    "- Without control theory, the designer is relegated to choosing a control system through trial and error."
   ]
  },
  {
   "cell_type": "markdown",
   "id": "88fc6fb6",
   "metadata": {},
   "source": [
    "- How can I get my system to meet my performance requirements?\n",
    "- How can I automate a process that currently involves humans in the\n",
    "loop?\n",
    "- How can my system operate in a dynamic and noisy environment?\n",
    "\n",
    "<tr>\n",
    "<td> <img src=\"img/11.The-control-problem.png\" alt=\"11.The-control-problem\" style=\"width: 350px;\"/> </td>\n",
    "</tr>"
   ]
  },
  {
   "cell_type": "markdown",
   "id": "346f0d35",
   "metadata": {},
   "source": [
    "---------------------------"
   ]
  },
  {
   "cell_type": "markdown",
   "id": "43ef8423",
   "metadata": {},
   "source": [
    "# Why do we need feedback control?"
   ]
  },
  {
   "cell_type": "markdown",
   "id": "99dc7775",
   "metadata": {},
   "source": [
    "### Open-loop control"
   ]
  },
  {
   "cell_type": "markdown",
   "id": "41e5751b",
   "metadata": {},
   "source": [
    "<table style='margin: 0 auto' rules=none>\n",
    "<tr>\n",
    "<td style=\"text-align: center;\"> <img src=\"img/dyn-system.png\" alt=\"1.Disk-brakes\" style=\"width: 350px;\"/> </td>\n",
    "</tr>\n",
    "</table>"
   ]
  },
  {
   "cell_type": "markdown",
   "id": "201a35b7",
   "metadata": {},
   "source": [
    "- Now the box isn’t just any system, it’s specifically a system that we want to control. \n",
    "- We call the system that is being controlled as the **process** (or controlled system). \n",
    "- The **inputs** into the process are variables that we have access to and can change based on whichever control scheme we choose (manipulated variables).\n",
    "- Actuators manipulate these variables. An actuator is a generic term that refers to a device or motor that is responsible for controlling a system.\n",
    "- The actuators are driven by an actuating signal that is generated by the controller.\n",
    "\n",
    "<tr>\n",
    "<td> <img src=\"img/12.feedback-control-1.png\" alt=\"12.feedback-control-1\" style=\"width: 550px;\"/> </td>\n",
    "</tr>"
   ]
  },
  {
   "cell_type": "markdown",
   "id": "7138ebef",
   "metadata": {},
   "source": [
    "This type of control system is referred to as open-loop since the inputs into the controller are not fed back from the output of the process.\n",
    "\n",
    "- Open loop control is reserved for simple processes that have well-defined input to output behaviors\n",
    "\n",
    "Some examples:\n",
    "- Dishwasher\n",
    "- Lawn sprinklers\n"
   ]
  },
  {
   "cell_type": "markdown",
   "id": "89f6b3ed",
   "metadata": {},
   "source": [
    "### Feedback-control"
   ]
  },
  {
   "cell_type": "markdown",
   "id": "82a90001",
   "metadata": {},
   "source": [
    "For any arbitrary process, an open-loop control system is typically not sufficient. \n",
    "\n",
    "This is because:\n",
    "- there are disturbances that affect your system that are random by nature and beyond your control;\n",
    "- the process itself might have variations (e.g., variation of resistence due to temperature)\n",
    "\n",
    "Since an open-loop control has no knowledge of the process output has no way of responding to these variations.\n"
   ]
  },
  {
   "cell_type": "markdown",
   "id": "f56e2989",
   "metadata": {},
   "source": [
    "So what can we do about this? \n",
    "- We add feedback to our system! \n",
    "- We accept the fact that disturbances and process variations are going to influence the controlled variable.\n",
    "- Instead of living with the resulting error, we add a sensor that will measure the controlled variable and pass it along to our controller. \n",
    "\n",
    "<tr>\n",
    "<td> <img src=\"img/15.feedback-control-2.png\" alt=\"15.feedback-control-2\" style=\"width: 550px;\"/> </td>\n",
    "</tr>\n",
    "\n",
    "A feedback control system is able to react to changes to the controlled variable automatically by constantly driving the error term to zero."
   ]
  },
  {
   "cell_type": "markdown",
   "id": "4bc4bb49",
   "metadata": {},
   "source": [
    "- The feedback structure is very powerful and robust \n",
    "- With the addition of the feedback structure we also have new problems\n",
    "- We need to think about:\n",
    "   - the accuracy of the controlled variable at steady state, \n",
    "   - the speed with which the system can respond to changes and reject disturbances,\n",
    "   - the stability of the system as a whole. \n",
    "   \n",
    "- We have also added sensors, and they have noise and other inaccuracies that get injected into our loop and affect the performance. \n",
    "   - We can add redundant sensors (so that we can measure different state variables)\n",
    "   - We filter the output of the sensors to reduce the noise\n",
    "   - We fuse them together to create a more accurate estimate of the true state."
   ]
  },
  {
   "cell_type": "markdown",
   "id": "97ea554c",
   "metadata": {},
   "source": [
    "### What is a control system?\n",
    "\n",
    "- A control system is a mechanism that alters the behavior (or the future state) of a system;\n",
    "- The future behavior of the system must tend towards a state that is desired. \n",
    "- This means that you have to know what you want your system to do and then design your control system to generate that desired outcome."
   ]
  },
  {
   "cell_type": "markdown",
   "id": "4403c6e3",
   "metadata": {},
   "source": [
    "--------------------------------"
   ]
  },
  {
   "cell_type": "markdown",
   "id": "cf58999f",
   "metadata": {},
   "source": [
    "## LTI systems"
   ]
  },
  {
   "cell_type": "markdown",
   "id": "be8e35b5",
   "metadata": {},
   "source": [
    "General form of a system:\n",
    "\n",
    "$$\n",
    "\\begin{cases}\n",
    "\\dot{x}(t) = f(x(t), u(t), t)\\\\\n",
    "y(t) = g(x(t), u(t), t)\n",
    "\\end{cases}\n",
    "$$"
   ]
  },
  {
   "cell_type": "markdown",
   "id": "c073a238",
   "metadata": {},
   "source": [
    "When $f$ and $g$ are linear in $x$ and $u$ then the system can be written in the form:\n",
    "\n",
    "$$\n",
    "\\begin{cases}\n",
    "\\dot{x}(t) = A(t)x(t) + B(t)u(t)\\\\\n",
    "y(t) = C(t)x(t) + D(t)u(t)\n",
    "\\end{cases}\n",
    "$$\n",
    "\n",
    "- The system is said linear in this case,\n",
    "- Matrices $A(t), B(t), C(t), D(t)$ can be in general function of time,\n",
    "- If they are not, we talk about **Linear Time-Invariant Systems**\n",
    "\n",
    "$$\n",
    "\\begin{cases}\n",
    "\\dot{x}(t) = Ax(t) + Bu(t)\\\\\n",
    "y(t) = Cx(t) + Du(t)\n",
    "\\end{cases}\n",
    "$$"
   ]
  },
  {
   "cell_type": "markdown",
   "id": "2e3dab2c",
   "metadata": {},
   "source": [
    "All LTI systems have the following defining properties:\n",
    "- Homogeneity: \n",
    "   - If you scale the input $u(t)$ then the output will be scaled by the same factor:\n",
    "   - $au(t) \\Rightarrow ay(t)$ (e.g. if you double the input, the output would also double).\n",
    "   \n",
    "   - ex. step input of amplitude 1 and 2:\n",
    "   \n",
    "   <tr>\n",
    "    <td> <img src=\"img/15.1_LTI-homogeneity.png\" alt=\"15.1_LTI-homogeneity.png\" style=\"width: 550px;\"/> </td>\n",
    "    </tr>"
   ]
  },
  {
   "cell_type": "markdown",
   "id": "b563c955",
   "metadata": {},
   "source": [
    "- Superposition (Additivity)\n",
    "  - Suppose that:\n",
    "    - input $x_1(t)$ produces output $y_1(t)$\n",
    "    - input $x_2(t)$ produces output $y_2(t)$\n",
    "  - If you add two inputs together, then the output is the superposition of the two separate outputs, i.e. the sum of the individual outputs:\n",
    "  \n",
    "\n"
   ]
  },
  {
   "cell_type": "markdown",
   "id": "ccd6056e",
   "metadata": {},
   "source": [
    "   <tr>\n",
    "    <td> <img src=\"img/15.2.LTI-superposition.png\" alt=\"15.2.LTI-superposition\" style=\"width: 350px;\"/> </td>\n",
    "    </tr>"
   ]
  },
  {
   "cell_type": "markdown",
   "id": "7ba82015",
   "metadata": {},
   "source": [
    "Sometimes, these two properties are stated together: \"if the input is scaled and summed, then the output will also be scaled and summed by the same amount\".\n",
    "- A system that respect these two property is a _linear system_"
   ]
  },
  {
   "cell_type": "markdown",
   "id": "2a61cf97",
   "metadata": {},
   "source": [
    "- Time Invariance\n",
    "    - The system behaves the same regardless of when the action takes place\n",
    "    - Formally there is no explicit dependency of time in the equations\n",
    "    - The same input translated in time produces the same output also translated in time:\n",
    "    \n",
    "    - An input of $x(t-\\tau)$ produces an output of $y(t-\\tau)$.\n",
    "    \n",
    "    <tr>\n",
    "    <td> <img src=\"img/15.3.time-invariance.png\" alt=\"15.3.time-invariance\" style=\"width: 350px;\"/> </td>\n",
    "    </tr>\n",
    "    "
   ]
  },
  {
   "cell_type": "markdown",
   "id": "9a0d8e44",
   "metadata": {},
   "source": [
    "- These conditions are very restritive\n",
    "- However, linear systems can be solved!\n",
    "\n",
    "- Wide range of systems can be approximated accurately by an LTI model"
   ]
  },
  {
   "cell_type": "markdown",
   "id": "2029b5bd",
   "metadata": {},
   "source": [
    "### Impulse Response\n",
    "\n",
    "- LTI systems can be characterised by their response to an impulse function (the output of the system when presented with a brief input signal)"
   ]
  },
  {
   "cell_type": "markdown",
   "id": "e1244886",
   "metadata": {},
   "source": [
    "Let's see what happens when we apply an impulse to our car.\n",
    "\n",
    "Before we do that, we need to define an impulse function in Python."
   ]
  },
  {
   "cell_type": "code",
   "execution_count": null,
   "id": "80a05e06",
   "metadata": {},
   "outputs": [],
   "source": [
    "def step(t, step_time=0):\n",
    "    \"\"\"Heaviside step function\"\"\"\n",
    "    return 1 * (t >= step_time)\n",
    "\n",
    "def delta(t, delta_t=0, eps=None): # Impulse\n",
    "    if np.isscalar(t) and eps is None:\n",
    "        raise Exception('eps must be defined for scalar values.')\n",
    "    if eps is None and len(t) > 1: \n",
    "        _eps=t[1]-t[0]\n",
    "    else:\n",
    "        _eps = eps\n",
    "    return step(t, delta_t)-step(t, delta_t+_eps)"
   ]
  },
  {
   "cell_type": "markdown",
   "id": "584ce3e9",
   "metadata": {},
   "source": [
    "And here is what it looks like:"
   ]
  },
  {
   "cell_type": "code",
   "execution_count": null,
   "id": "74b2d794",
   "metadata": {},
   "outputs": [
    {
     "data": {
      "image/png": "[encoded data removed]",
      "text/plain": [
       "<Figure size 216x216 with 1 Axes>"
      ]
     },
     "metadata": {
      "needs_background": "light"
     },
     "output_type": "display_data"
    }
   ],
   "source": [
    "fig, ax = plt.subplots(1, 1, figsize=(3, 3))\n",
    "\n",
    "t = np.linspace(0, 5, 60)\n",
    "ax.plot(t, delta(t, delta_t=1), linewidth=3, color='blue')\n",
    "ax.set_xlabel('time (s)')\n",
    "fig.tight_layout()"
   ]
  },
  {
   "cell_type": "markdown",
   "id": "39f02d21",
   "metadata": {},
   "source": [
    "We are now ready to apply it to our car:"
   ]
  },
  {
   "cell_type": "code",
   "execution_count": null,
   "id": "40447b86",
   "metadata": {},
   "outputs": [
    {
     "name": "stdout",
     "output_type": "stream",
     "text": [
      "simulation complete\n"
     ]
    }
   ],
   "source": [
    "# We assume we have identified the model parameters\n",
    "m = 10\n",
    "alpha = 1\n",
    "beta = 10\n",
    "gamma = 100\n",
    "params = (m, alpha, beta, gamma)\n",
    "\n",
    "# We select the car initial conditions (position and velocity)\n",
    "x_0 = (0,0)\n",
    "\n",
    "# We create our car\n",
    "car = LinearCar(x_0, params)\n",
    "\n",
    "theta = 0 # disturbance\n",
    "\n",
    "# And finally we define the simulation parameters\n",
    "t0, tf, dt = 0, 10, 0.1 # time\n",
    "\n",
    "position = []\n",
    "velocity = []\n",
    "input_values = []\n",
    "time = []\n",
    "for t in np.arange(t0, tf, dt):\n",
    "    # HERE, we apply the impulse\n",
    "    u = delta(t, delta_t=0, eps=0.01)\n",
    "    \n",
    "    car.step(dt, u, theta)\n",
    "    x, y, v = car.sensor_i()\n",
    "    position.append((x,y)), velocity.append(v)\n",
    "    time.append(t)\n",
    "    input_values.append(u)\n",
    "    \n",
    "print('simulation complete')    "
   ]
  },
  {
   "cell_type": "code",
   "execution_count": null,
   "id": "3bc36366",
   "metadata": {},
   "outputs": [
    {
     "data": {
      "image/png": "[encoded data removed]",
      "text/plain": [
       "<Figure size 432x288 with 1 Axes>"
      ]
     },
     "metadata": {
      "needs_background": "light"
     },
     "output_type": "display_data"
    }
   ],
   "source": [
    "plt.plot(np.arange(t0, tf, dt), velocity, linewidth=4, color='blue', label='t_0')\n",
    "plt.xlabel('time (s)'), plt.ylabel('velocity (m/s)');\n",
    "plt.ylim(0,)\n",
    "plt.grid();"
   ]
  },
  {
   "cell_type": "markdown",
   "id": "11923956",
   "metadata": {},
   "source": [
    "Because of time invariance, if we have another impulse we can expect the same response at this second time, and if we hit twice as hard, then the response is twice as large"
   ]
  },
  {
   "cell_type": "code",
   "execution_count": null,
   "id": "5206e6b0",
   "metadata": {},
   "outputs": [],
   "source": [
    "def multiple_impulses(t):\n",
    "    u1 = 1*delta(t, delta_t=0, eps=0.01)\n",
    "    u2 = 2*delta(t, delta_t=1, eps=0.01)\n",
    "    u3 = 2*delta(t, delta_t=4, eps=0.01)\n",
    "    \n",
    "    return u1 + u2 + u3"
   ]
  },
  {
   "cell_type": "code",
   "execution_count": null,
   "id": "a5b18144",
   "metadata": {},
   "outputs": [
    {
     "name": "stdout",
     "output_type": "stream",
     "text": [
      "simulation complete\n"
     ]
    }
   ],
   "source": [
    "car = LinearCar(x0=(0,0), params=params)\n",
    "\n",
    "position = []\n",
    "velocity = []\n",
    "input_values = []\n",
    "time = []\n",
    "for t in np.arange(t0, tf, dt):\n",
    "    # HERE, we apply the impulse\n",
    "    u = multiple_impulses(t)\n",
    "    \n",
    "    car.step(dt, u, theta)\n",
    "    x, y, v = car.sensor_i()\n",
    "    position.append((x,y)), velocity.append(v)\n",
    "    time.append(t)\n",
    "    input_values.append(u)\n",
    "    \n",
    "print('simulation complete')   "
   ]
  },
  {
   "cell_type": "code",
   "execution_count": null,
   "id": "6c95ab70",
   "metadata": {},
   "outputs": [
    {
     "data": {
      "image/png": "[encoded data removed]",
      "text/plain": [
       "<Figure size 432x288 with 1 Axes>"
      ]
     },
     "metadata": {
      "needs_background": "light"
     },
     "output_type": "display_data"
    }
   ],
   "source": [
    "plt.plot(np.arange(t0, tf, dt), velocity, linewidth=4, color='blue', label='t_0')\n",
    "plt.xlabel('time (s)'), plt.ylabel('velocity (m/s)');\n",
    "plt.ylim(0,)\n",
    "plt.grid();"
   ]
  },
  {
   "cell_type": "markdown",
   "id": "71f311fb",
   "metadata": {},
   "source": [
    "- Because of the superposition principle, the full response is the summation of the signals.\n",
    "\n",
    "- If we have a more complex signal (e.g. ramp) we can break it down to a sequence of impulses (the output is the response to each of the impulses)"
   ]
  },
  {
   "cell_type": "code",
   "execution_count": null,
   "id": "21ed39bb",
   "metadata": {},
   "outputs": [],
   "source": [
    "def ramp_as_impulses(t, time_vector):    \n",
    "    u = t*delta(time_vector, delta_t=t, eps=.01)\n",
    "    return u"
   ]
  },
  {
   "cell_type": "code",
   "execution_count": null,
   "id": "f39b2ed7",
   "metadata": {},
   "outputs": [],
   "source": [
    "u1 = ramp_as_impulses(1, time_vector = np.arange(t0, tf, dt))"
   ]
  },
  {
   "cell_type": "code",
   "execution_count": null,
   "id": "f9511eaf",
   "metadata": {},
   "outputs": [
    {
     "data": {
      "text/plain": [
       "[<matplotlib.lines.Line2D at 0x7fd042cc24c0>]"
      ]
     },
     "execution_count": null,
     "metadata": {},
     "output_type": "execute_result"
    },
    {
     "data": {
      "image/png": "[encoded data removed]",
      "text/plain": [
       "<Figure size 432x288 with 1 Axes>"
      ]
     },
     "metadata": {
      "needs_background": "light"
     },
     "output_type": "display_data"
    }
   ],
   "source": [
    "plt.plot(np.arange(t0, tf, dt), u1, linewidth=3, color='blue')\n"
   ]
  },
  {
   "cell_type": "code",
   "execution_count": null,
   "id": "cbcb71ea",
   "metadata": {},
   "outputs": [
    {
     "data": {
      "image/png": "[encoded data removed]",
      "text/latex": [
       "$\\displaystyle 100$"
      ],
      "text/plain": [
       "100"
      ]
     },
     "execution_count": null,
     "metadata": {},
     "output_type": "execute_result"
    }
   ],
   "source": [
    "len(u1)"
   ]
  },
  {
   "cell_type": "markdown",
   "id": "4ed762ce",
   "metadata": {},
   "source": [
    "And we can verify that this is a ramp:"
   ]
  },
  {
   "cell_type": "code",
   "execution_count": null,
   "id": "4d56c393",
   "metadata": {},
   "outputs": [],
   "source": [
    "input_u = []\n",
    "\n",
    "for t in np.arange(t0, tf, .4):\n",
    "    input_u.append(ramp_as_impulses(t, np.arange(t0, tf, .4)))"
   ]
  },
  {
   "cell_type": "code",
   "execution_count": null,
   "id": "bd4667e7",
   "metadata": {},
   "outputs": [
    {
     "data": {
      "image/png": "[encoded data removed]",
      "text/latex": [
       "$\\displaystyle 25$"
      ],
      "text/plain": [
       "25"
      ]
     },
     "execution_count": null,
     "metadata": {},
     "output_type": "execute_result"
    }
   ],
   "source": [
    "len(input_u)"
   ]
  },
  {
   "cell_type": "code",
   "execution_count": null,
   "id": "c30da56f",
   "metadata": {},
   "outputs": [
    {
     "data": {
      "image/png": "[encoded data removed]",
      "text/plain": [
       "<Figure size 216x216 with 1 Axes>"
      ]
     },
     "metadata": {
      "needs_background": "light"
     },
     "output_type": "display_data"
    }
   ],
   "source": [
    "fig, ax = plt.subplots(1, 1, figsize=(3, 3))\n",
    "\n",
    "ax.plot(np.arange(t0, tf, .4), input_u, linewidth=3, color='blue')\n",
    "ax.set_xlabel('time (s)')\n",
    "fig.tight_layout()"
   ]
  },
  {
   "cell_type": "code",
   "execution_count": null,
   "id": "35a598fb",
   "metadata": {},
   "outputs": [
    {
     "name": "stdout",
     "output_type": "stream",
     "text": [
      "simulation complete\n"
     ]
    }
   ],
   "source": [
    "car = LinearCar(x0=(0,0), params=params)\n",
    "\n",
    "position = []\n",
    "velocity = []\n",
    "input_values = []\n",
    "time = []\n",
    "for index, t in enumerate(np.arange(t0, tf, dt)):\n",
    "    # HERE, we apply the ramp as a sequence of impulses\n",
    "    u = ramp_as_impulses(t, np.arange(t0, tf, dt))    \n",
    "    #print('time:', t, '-> index:', index, '->u[i]:', u[index])\n",
    "    car.step(dt, u[index], theta)\n",
    "    x, y, v = car.sensor_i()\n",
    "    position.append((x,y)), velocity.append(v)\n",
    "    time.append(t)\n",
    "    input_values.append(u)\n",
    "    \n",
    "print('simulation complete')   "
   ]
  },
  {
   "cell_type": "code",
   "execution_count": null,
   "id": "1b6cc3f2",
   "metadata": {},
   "outputs": [
    {
     "data": {
      "image/png": "[encoded data removed]",
      "text/plain": [
       "<Figure size 432x288 with 1 Axes>"
      ]
     },
     "metadata": {
      "needs_background": "light"
     },
     "output_type": "display_data"
    }
   ],
   "source": [
    "plt.plot(np.arange(t0, tf, dt), velocity, linewidth=4, color='blue', label='t_0')\n",
    "plt.xlabel('time (s)'), plt.ylabel('velocity (m/s)');\n",
    "plt.ylim(0,)\n",
    "plt.grid();"
   ]
  },
  {
   "cell_type": "markdown",
   "id": "74855e58",
   "metadata": {},
   "source": [
    "- In reality, the impulses and responses will be infinitesimal\n",
    "- In this case, the summation in the time domain is a convolution $u(t) \\circledast H(t)$, where $H(t)$ is the impulse response of the system. \n",
    "- This can be a difficult integration.."
   ]
  },
  {
   "cell_type": "markdown",
   "id": "d9b55691",
   "metadata": {},
   "source": [
    "- If we use the Laplace transform and move to the s-domain however, convolutions become multiplications, and things are simpler.\n",
    "\n",
    "- As a control engineers we would like to design our systems to be as close as possible to be LTI, or so that the non LTI parts can be ignored.\n",
    "- So that the standard LTI tools can be used."
   ]
  },
  {
   "cell_type": "markdown",
   "id": "426bc022",
   "metadata": {},
   "source": [
    "------------------------------"
   ]
  }
 ],
 "metadata": {
  "kernelspec": {
   "display_name": "Python [conda env:data-science] *",
   "language": "python",
   "name": "conda-env-data-science-py"
  }
 },
 "nbformat": 4,
 "nbformat_minor": 5
}
