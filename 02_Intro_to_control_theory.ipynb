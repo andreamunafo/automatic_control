{
 "cells": [
  {
   "cell_type": "code",
   "execution_count": null,
   "id": "73a5ce60",
   "metadata": {},
   "outputs": [],
   "source": [
    "# default_exp intro_to_control_theory"
   ]
  },
  {
   "cell_type": "code",
   "execution_count": null,
   "id": "2514fad0",
   "metadata": {},
   "outputs": [],
   "source": [
    "%load_ext autoreload\n",
    "%autoreload 2"
   ]
  },
  {
   "cell_type": "code",
   "execution_count": null,
   "id": "1af0acf9",
   "metadata": {},
   "outputs": [],
   "source": [
    "from importing_modules import *"
   ]
  },
  {
   "cell_type": "code",
   "execution_count": null,
   "id": "92a8c243",
   "metadata": {},
   "outputs": [],
   "source": [
    "%matplotlib inline"
   ]
  },
  {
   "cell_type": "markdown",
   "id": "0b154655",
   "metadata": {},
   "source": [
    "------------------------"
   ]
  },
  {
   "cell_type": "markdown",
   "id": "7337c231",
   "metadata": {},
   "source": [
    "# Why Learn Control Theory?"
   ]
  },
  {
   "cell_type": "markdown",
   "id": "7f18c5c0",
   "metadata": {},
   "source": [
    "This notebook we provide an overview of the big picture problem that we’re trying to solve as control system engineers. "
   ]
  },
  {
   "cell_type": "markdown",
   "id": "bd2ff201",
   "metadata": {},
   "source": [
    "- Control theory allows to solve a number of engineering problems, not only as control engineers but as any engineer\n",
    "    - Switching power regulators\n",
    "    - Automatic gain control circuits that automatically increase or decrease the gain of a signal\n",
    "    - Isolation system in a motor mount that is sensitive to vibrations\n",
    "    - Industrial robotics\n",
    "    - etc."
   ]
  },
  {
   "cell_type": "markdown",
   "id": "00655f6c",
   "metadata": {},
   "source": [
    "Control system is:\n",
    "- Building models of your system\n",
    "- Simulate them to make predictions\n",
    "- Understanding the dynamics and how they interact with the rest of the system\n",
    "- Filtering and rejecting noise\n",
    "- Selecting or designing hardware (sensors, actuators)\n",
    "- Testing the system in expected and unexpected environments\n",
    "- It is understanding your system!"
   ]
  },
  {
   "cell_type": "markdown",
   "id": "85a287cc",
   "metadata": {},
   "source": [
    "------------------"
   ]
  },
  {
   "cell_type": "markdown",
   "id": "99d1444f",
   "metadata": {},
   "source": [
    "## What is a system?"
   ]
  },
  {
   "cell_type": "markdown",
   "id": "9e722776",
   "metadata": {},
   "source": [
    "The concept is straigthforward, but the term is sometime applied very generically\n",
    "\n",
    "For us:\n",
    "\n",
    "> A **system** is a collection of interconnected parts that form a larger more complex whole\n"
   ]
  },
  {
   "cell_type": "markdown",
   "id": "ee30606d",
   "metadata": {},
   "source": [
    "Engineering problems are usually complex.\n",
    "- Divide complex projects into smaller parts, or _systems_\n",
    "- Makes it possible to simplify the problem and to specialise in specific areas\n",
    "- Each one of the interconnected parts that form a larger system can be a complex system in its own right!"
   ]
  },
  {
   "cell_type": "markdown",
   "id": "e00799ac",
   "metadata": {},
   "source": [
    "### Control systems\n",
    "\n",
    "As a control engineer:\n",
    "- Goal is to create something that meets the functional or performance requirements you set for the project. \n",
    "- The collection of the interconnected parts that are created specifically to meet these requirements as the _control system_\n",
    "- More specifically: **A control system is a mechanism that alters the future state of a system**\n",
    "\n",
    "- For any project however the control system again might be a collection of interconnected parts that require specialists:\n",
    "    - sensor experts, \n",
    "    - actuators experts, \n",
    "    - digital signal processing experts, \n",
    "    - state estimation experts."
   ]
  },
  {
   "cell_type": "markdown",
   "id": "1fd6fecb",
   "metadata": {},
   "source": [
    "For example:"
   ]
  },
  {
   "cell_type": "markdown",
   "id": "80b26ebe",
   "metadata": {},
   "source": [
    "<tr>\n",
    "<td> <img src=\"img/1.Disk-brakes.png\" alt=\"1.Disk-brakes\" style=\"width: 350px;\"/> </td>\n",
    "<td> <img src=\"img/2.Break-Hydraulics.png\" alt=\"2.Break-Hydraulics\" style=\"width: 350px;\"/> </td>\n",
    "<td> <img src=\"img/3.Parking-brake-light-system.png\" alt=\"3.Parking-brake-light-system\" style=\"width: 350px;\"/> </td>\n",
    "</tr>"
   ]
  },
  {
   "cell_type": "markdown",
   "id": "d13b0d0f",
   "metadata": {},
   "source": [
    "And of course, the breaking system itself is just one of the main interconnected parts that create the car."
   ]
  },
  {
   "cell_type": "markdown",
   "id": "20610866",
   "metadata": {},
   "source": [
    "### Systems as a box"
   ]
  },
  {
   "cell_type": "markdown",
   "id": "7690b55b",
   "metadata": {},
   "source": [
    "- We represent systems graphically as a box\n",
    "- Arrows going into the box are inputs\n",
    "- Arrows going out of the box are output\n",
    "\n",
    "<tr>\n",
    "<td> <img src=\"img/4.system.png\" alt=\"4.system\" style=\"width: 350px;\"/> </td>\n",
    "</tr>"
   ]
  },
  {
   "cell_type": "markdown",
   "id": "75e29097",
   "metadata": {},
   "source": [
    "Or if we want to start representing it more formally:\n",
    "\n",
    "<tr>\n",
    "<td style=\"text-align: center;\"> <img src=\"img/dyn-system.png\" alt=\"1.Disk-brakes\" style=\"width: 350px;\"/> </td>\n",
    "</tr>"
   ]
  },
  {
   "cell_type": "markdown",
   "id": "b563509c",
   "metadata": {},
   "source": [
    "- $u$: control inputs \n",
    "\n",
    "- $\\xi$: disturbances\n",
    "\n",
    "- $f$: system (physics is involved here!)\n",
    "\n",
    "- $\\theta$: system parameters (e.g., mass, inertia, spring constants, etc. )\n"
   ]
  },
  {
   "cell_type": "markdown",
   "id": "da74752a",
   "metadata": {},
   "source": [
    "- The system inside the box is described through a math model (e.g. equation of motion)\n",
    "- The \"box\" can be used to describe systems that are simple or complex"
   ]
  },
  {
   "cell_type": "markdown",
   "id": "822b3602",
   "metadata": {},
   "source": [
    "<table style='margin: 0 auto' rules=none>\n",
    "    <tr>\n",
    "    <td> <img src=\"img/5.simple-system.png\" alt=\"5.simple-system\" style=\"width: 300px;\"/> </td>\n",
    "    <td> <img src=\"img/6.complex-system.png\" alt=\"6.complex-system\" style=\"width: 300px;\"/> </td>\n",
    "    </tr>\n",
    "</table>"
   ]
  },
  {
   "cell_type": "markdown",
   "id": "1d811323",
   "metadata": {},
   "source": [
    "## Three different problems\n",
    "- Three parts to our simple block diagram\n",
    "    - The system\n",
    "    - The inputs (that drive the system)\n",
    "    - The output (that the system generates)\n",
    "    \n",
    "At any given time one of the three parts are unknown, and the part that is unknown defines the problem that you are solving."
   ]
  },
  {
   "cell_type": "markdown",
   "id": "580e56e1",
   "metadata": {},
   "source": [
    "### The system identification problem\n",
    "\n",
    "- As a practicing engineer you won’t always be given a model of your system\n",
    "- You will need to determine it yourself\n",
    "- This is done through a process called **System Identification**\n",
    "\n",
    "<tr>\n",
    "<td> <img src=\"img/7.system-identification.png\" alt=\"7.system-identification\" style=\"width: 350px;\"/> </td>\n",
    "</tr>\n"
   ]
  },
  {
   "cell_type": "markdown",
   "id": "842ce304",
   "metadata": {},
   "source": [
    "- What is the mathematical equation that will convert my known inputs into my measured outputs?\n",
    "- What should I model?"
   ]
  },
  {
   "cell_type": "markdown",
   "id": "f3a764a7",
   "metadata": {},
   "source": [
    "### Black box vs White box"
   ]
  },
  {
   "cell_type": "markdown",
   "id": "0d70f260",
   "metadata": {},
   "source": [
    "**Black box**:\n",
    "- You are given a box that you cannot open, but you are asked to model what is inside\n",
    "- Subject what is inside the box to various known inputs, measure the output and then infer what is inside the box based on the relationship between the input and the output.\n",
    "\n",
    "**White box**\n",
    "- Now you can see exactly what is inside the box (hardware, software).\n",
    "- You can write the mathematical equations of the dynamics directly (e.g. Netwon's equations of motion).\n",
    "\n",
    "For example, for a sping-mass system:\n",
    "\n",
    "<tr>\n",
    "<td> <img src=\"img/8.spring-mass-system.jpeg\" alt=\"8.spring-mass-system\" style=\"width: 350px;\"/> </td>\n",
    "<td> $$F = m\\ddot{x} + kx$$ </td>\n",
    "</tr>\n",
    "\n"
   ]
  },
  {
   "cell_type": "markdown",
   "id": "ebfd57a3",
   "metadata": {},
   "source": [
    "- Even the while box method might require to run tests and applying inputs to measure outputs to calculate the parameters of your system.\n",
    "- E.g., modeling a linear spring: you know the equation but what is the exact spring constant?"
   ]
  },
  {
   "cell_type": "markdown",
   "id": "13812d46",
   "metadata": {},
   "source": [
    "Usually, you need to do a bit of both."
   ]
  },
  {
   "cell_type": "markdown",
   "id": "194686cf",
   "metadata": {},
   "source": [
    "------------------------"
   ]
  },
  {
   "cell_type": "markdown",
   "id": "c4ec2270",
   "metadata": {},
   "source": [
    "### Example: modeling a car"
   ]
  },
  {
   "cell_type": "markdown",
   "id": "1ceae881",
   "metadata": {},
   "source": [
    "Let's consider an example: car cruise control, using a simplified mathematical model.\n",
    "\n",
    "<tr>\n",
    "<td> <img src=\"img/9.car-uphill.png\" alt=\"9.car-uphill.png\" style=\"width: 350px;\"/> </td>\n",
    "</tr>\n",
    "\n",
    "- Thrust is proportional to how much pressure we put on the pedal and this directly translates into how much gas valve is open\n",
    "- Frictions are linear with speed\n",
    "- Small angles: $\\theta < 30^o$ so that $sin(\\theta) \\approx \\theta$\n"
   ]
  },
  {
   "cell_type": "markdown",
   "id": "db837b35",
   "metadata": {},
   "source": [
    "$$m\\frac{dv}{dt} + \\alpha|v|v+\\beta*v = \\gamma u-mgsin(\\theta)$$"
   ]
  },
  {
   "cell_type": "markdown",
   "id": "0a1fe8e7",
   "metadata": {},
   "source": [
    "- Input: gas pedal\n",
    "- Output: speed (speedometer)\n",
    "- Disturbance: the slope of the road"
   ]
  },
  {
   "cell_type": "markdown",
   "id": "ec193e5d",
   "metadata": {},
   "source": [
    "We can re-write this model as:\n",
    "\n",
    "$$\\mathbf{\\dot{x}} = [\\dot{x_1}, \\dot{x_2}]^T$$\n",
    "\n",
    "\\begin{cases}\n",
    " \\dot{x_1} &= x_2 \\\\\n",
    " \\dot{x_2} &= -\\frac{\\alpha}{m}|x_2|x_2 - \\frac{\\beta}{m}x_2 + \\frac{\\gamma}{m}u -gsin(\\theta) \\\\\n",
    " y &=x_2\n",
    "\\end{cases}\n",
    "\n",
    "- Velocity is the derivative of the position\n",
    "- Two state variables: position and velocity\n",
    "- Two inputs: $u$ and $\\theta$"
   ]
  },
  {
   "cell_type": "markdown",
   "id": "1056303d",
   "metadata": {},
   "source": [
    "We can code this up in Python:"
   ]
  },
  {
   "cell_type": "code",
   "execution_count": null,
   "id": "2d3883a9",
   "metadata": {},
   "outputs": [],
   "source": [
    "class Car:\n",
    "    _g = 9.8\n",
    "    \n",
    "    def __init__(self, x0, params):\n",
    "        self._x_1 = x0[0] # position (along the road)\n",
    "        self._x_2 = x0[1] # velocity\n",
    "        self._m, self._alpha, self._beta, self._gamma = params\n",
    "        \n",
    "    def step(self, dt, u, theta):\n",
    "        self.theta = theta\n",
    "        self._x_1 = self._x_1 + dt*self._x_2\n",
    "        self._x_2 = self._x_2 + dt*(-self._alpha/self._m*abs(self._x_2)*self._x_2 - self._beta/self._m*self._x_2 + self._gamma/self._m*u - Car._g*np.sin(theta))\n",
    "        \n",
    "    def speedometer(self):        \n",
    "        v = self._x_2\n",
    "        return (v,)  \n",
    "    \n",
    "    # Utility function to simplify plotting\n",
    "    def sensor_i(self):\n",
    "        # Rotation matrix to get back to the main frame.\n",
    "        R = np.array(((np.cos(theta), -np.sin(theta)), (np.sin(theta), np.cos(theta))))\n",
    "        x_i, y_i = R.dot(np.array([[self._x_1],[0]]))\n",
    "        v = self._x_2\n",
    "        return (x_i, y_i, v)"
   ]
  },
  {
   "cell_type": "markdown",
   "id": "9e28bc08",
   "metadata": {},
   "source": [
    "Using our assumptions, the previous model can be simplified a little bit as:\n",
    "\n",
    "$$m\\frac{dv}{dt} + \\beta*v = \\gamma u-mg\\theta$$"
   ]
  },
  {
   "cell_type": "markdown",
   "id": "92037bc6",
   "metadata": {},
   "source": [
    "We can linearise the previous model of the car around an equilibrium ($\\dot{\\mathbf{x}}=0$) as below. \n",
    "\n",
    "\\begin{equation}\n",
    "\\frac{df}{dx}=\n",
    "\\begin{bmatrix}\n",
    "0 & 1\\\\\n",
    "0 & -\\frac{\\alpha}{m}|x_2|-\\frac{\\beta}{m}\n",
    "\\end{bmatrix}\n",
    "\\end{equation}\n",
    "\n",
    "\\begin{equation}\n",
    "\\frac{df}{du}=\n",
    "\\begin{bmatrix}\n",
    "0 & 0\\\\\n",
    "\\frac{\\gamma}{m} & -gcos(\\theta)\n",
    "\\end{bmatrix}\n",
    "\\end{equation}\n",
    "\n",
    "which, at the equilibrium $x_1=0, x_2=0$ (note that $x_1$ really does not affect the result):\n",
    "\n",
    "\n",
    "\\begin{equation}\n",
    "A=\\frac{df}{dx}=\n",
    "\\begin{bmatrix}\n",
    "0 & 1\\\\\n",
    "0 & -\\frac{\\beta}{m}\n",
    "\\end{bmatrix}\n",
    "\\end{equation}\n",
    "\n",
    "\\begin{equation}\n",
    "B=\\frac{df}{du}=\n",
    "\\begin{bmatrix}\n",
    "0 & 0\\\\\n",
    "\\frac{\\gamma}{m} & -g\n",
    "\\end{bmatrix}\n",
    "\\end{equation}\n",
    "\n",
    "and\n",
    "\n",
    "$$\\dot{\\mathbf{x}}=A\\mathbf{x}+B\\mathbf{u}$$\n",
    "$$y=[0 \\; 1]\\mathbf{x}$$\n"
   ]
  },
  {
   "cell_type": "code",
   "execution_count": null,
   "id": "15a76607",
   "metadata": {},
   "outputs": [],
   "source": [
    "class LinearCar:\n",
    "    _g = 9.8\n",
    "    \n",
    "    def __init__(self, x0, params):\n",
    "        self._x_1 = x0[0] # position (along the road)\n",
    "        self._x_2 = x0[1] # velocity\n",
    "        self._m, self._alpha, self._beta, self._gamma = params\n",
    "        \n",
    "    def step(self, dt, u, theta):\n",
    "        self._theta = theta\n",
    "        A = np.array([[0, 1], [0, -self._alpha/self._m*abs(self._x_2)-self._beta/self._m]])\n",
    "        B = np.array([[0, 0], [self._gamma, -LinearCar._g*np.cos(self._theta)]])\n",
    "        \n",
    "        x = np.array([[self._x_1],[self._x_2]])\n",
    "        U = np.array([[u],[theta]])\n",
    "        self._x_1 = (self._x_1 + dt*(A[0,np.newaxis,:].dot(x) + B[0,np.newaxis,:].dot(U))).item()\n",
    "        self._x_2 = (self._x_2 + dt*(A[1,np.newaxis,:].dot(x) + B[1,np.newaxis,:].dot(U))).item()\n",
    "        \n",
    "    def speedometer(self):        \n",
    "        v = self._x_2\n",
    "        return (x, v)\n",
    "    \n",
    "    def sensor_i(self):\n",
    "        # Rotation matrix to get back to the inertial frame..\n",
    "        R = np.array(((np.cos(self._theta), -np.sin(self._theta)), (np.sin(self._theta), np.cos(self._theta))))\n",
    "        x_i, y_i = R.dot(np.array([[self._x_1],[0]]))\n",
    "        v = self._x_2\n",
    "        return (x_i, y_i, v)"
   ]
  },
  {
   "cell_type": "markdown",
   "id": "4c7a6723",
   "metadata": {},
   "source": [
    "### Comments\n",
    "- There are a number of parameters in our models ($m$, $\\alpha$, $\\beta$, $\\gamma$)\n",
    "- Their value depend on the specific car you are modeling\n",
    "- It might not be easy to have good values for these parameters"
   ]
  },
  {
   "cell_type": "markdown",
   "id": "bced0630",
   "metadata": {},
   "source": [
    "## The simulation problem"
   ]
  },
  {
   "cell_type": "markdown",
   "id": "e834217c",
   "metadata": {},
   "source": [
    "- Predict how your outputs change given a known set of inputs and the mathematical model of the system\n",
    "- Usually a lot of design time is spent in this stage\n",
    "- It can be difficult to figure out the set of inputs and their range to characterise the operational envelope of the system\n",
    "\n",
    "\n",
    "<tr>\n",
    "<td> <img src=\"img/10.the-simulation-problem.png\" alt=\"10.the-simulation-problem.png\" style=\"width: 350px;\"/> </td>\n",
    "</tr>\n",
    "\n",
    "\n",
    "\n",
    "You need to run a simulation to answer:\n",
    "- Does my system model match my test data?\n",
    "- Will my system work in all operating environments?\n",
    "- What happens when...\n",
    "- Simulations can also be used to limit the number of field tests (which are usually expensive or might let you avoid dangerous maneouvers)"
   ]
  },
  {
   "cell_type": "markdown",
   "id": "66ce0ce3",
   "metadata": {},
   "source": [
    "If we go back to our Python car, we can now easily simulate it:"
   ]
  },
  {
   "cell_type": "code",
   "execution_count": null,
   "id": "bde32636",
   "metadata": {},
   "outputs": [],
   "source": [
    "# We assume we have identified the model parameters\n",
    "m = 10\n",
    "alpha = 1\n",
    "beta = 1\n",
    "gamma = 1\n",
    "params = (m, alpha, beta, gamma)\n",
    "\n",
    "# We select the car initial conditions (position and velocity)\n",
    "x_0 = (0,0)\n",
    "\n",
    "# We create our car\n",
    "car = Car(x_0, params)"
   ]
  },
  {
   "cell_type": "code",
   "execution_count": null,
   "id": "801114b7",
   "metadata": {},
   "outputs": [],
   "source": [
    "# We define out inputs:\n",
    "theta = np.radians(20) # disturbance\n",
    "u = 0 # Input\n",
    "\n",
    "# And finally we define the simulation parameters\n",
    "t0, tf, dt = 0, 10, 0.1 # time\n",
    "\n",
    "position = []\n",
    "velocity = []\n",
    "time = []\n",
    "for t in np.arange(t0, tf, dt):\n",
    "    car.step(dt, u, theta)\n",
    "    x, y, v = car.sensor_i()\n",
    "    position.append((x,y)), velocity.append(v)\n",
    "    time.append(t)\n",
    "    "
   ]
  },
  {
   "cell_type": "markdown",
   "id": "58147f2a",
   "metadata": {},
   "source": [
    "Done! Now we can see what happened.."
   ]
  },
  {
   "cell_type": "markdown",
   "id": "e26e86cf",
   "metadata": {},
   "source": [
    "Let's plot the results:"
   ]
  },
  {
   "cell_type": "code",
   "execution_count": null,
   "id": "34a998ce",
   "metadata": {},
   "outputs": [
    {
     "data": {
      "image/png": "[encoded data removed]",
      "text/plain": [
       "<Figure size 432x288 with 1 Axes>"
      ]
     },
     "metadata": {
      "needs_background": "light"
     },
     "output_type": "display_data"
    }
   ],
   "source": [
    "fig, ax = plt.subplots();\n",
    "\n",
    "plt.plot(time, velocity)\n",
    "plt.xlabel('time (s)')\n",
    "plt.ylabel('speed (m/s)');"
   ]
  },
  {
   "cell_type": "markdown",
   "id": "3ec90ee7",
   "metadata": {},
   "source": [
    "We can have much more complex representation of our simulation:"
   ]
  },
  {
   "cell_type": "code",
   "execution_count": null,
   "id": "496a581a",
   "metadata": {},
   "outputs": [
    {
     "data": {
      "image/png": "[encoded data removed]",
      "text/plain": [
       "<Figure size 432x288 with 1 Axes>"
      ]
     },
     "metadata": {
      "needs_background": "light"
     },
     "output_type": "display_data"
    }
   ],
   "source": [
    "# First set up the figure, the axis, and the plot elements we want to animate\n",
    "fig, ax = plt.subplots();\n",
    "\n",
    "ax.set_xlim((min(position)[0], max(position)[0]))\n",
    "ax.set_ylim((min(position)[1], max(position)[1]))\n",
    "line, = ax.plot([], [], lw=4);"
   ]
  },
  {
   "cell_type": "code",
   "execution_count": null,
   "id": "2ea33062",
   "metadata": {},
   "outputs": [
    {
     "data": {
      "text/html": [
       "<video width=\"432\" height=\"288\" controls autoplay loop>\n",
       "  <source type=\"video/mp4\" src=\"data:video/mp4;base64,AAAAIGZ0eXBNNFYgAAACAE00ViBpc29taXNvMmF2YzEAAAAIZnJlZQAAHvxtZGF0AAACrwYF//+r\n",
       "3EXpvebZSLeWLNgg2SPu73gyNjQgLSBjb3JlIDE2MSByMzAzME0gOGJkNmQyOCAtIEguMjY0L01Q\n",
       "RUctNCBBVkMgY29kZWMgLSBDb3B5bGVmdCAyMDAzLTIwMjAgLSBodHRwOi8vd3d3LnZpZGVvbGFu\n",
       "Lm9yZy94MjY0Lmh0bWwgLSBvcHRpb25zOiBjYWJhYz0xIHJlZj0zIGRlYmxvY2s9MTowOjAgYW5h\n",
       "bHlzZT0weDM6MHgxMTMgbWU9aGV4IHN1Ym1lPTcgcHN5PTEgcHN5X3JkPTEuMDA6MC4wMCBtaXhl\n",
       "ZF9yZWY9MSBtZV9yYW5nZT0xNiBjaHJvbWFfbWU9MSB0cmVsbGlzPTEgOHg4ZGN0PTEgY3FtPTAg\n",
       "ZGVhZHpvbmU9MjEsMTEgZmFzdF9wc2tpcD0xIGNocm9tYV9xcF9vZmZzZXQ9LTIgdGhyZWFkcz05\n",
       "IGxvb2thaGVhZF90aHJlYWRzPTEgc2xpY2VkX3RocmVhZHM9MCBucj0wIGRlY2ltYXRlPTEgaW50\n",
       "ZXJsYWNlZD0wIGJsdXJheV9jb21wYXQ9MCBjb25zdHJhaW5lZF9pbnRyYT0wIGJmcmFtZXM9MyBi\n",
       "X3B5cmFtaWQ9MiBiX2FkYXB0PTEgYl9iaWFzPTAgZGlyZWN0PTEgd2VpZ2h0Yj0xIG9wZW5fZ29w\n",
       "PTAgd2VpZ2h0cD0yIGtleWludD0yNTAga2V5aW50X21pbj0yNSBzY2VuZWN1dD00MCBpbnRyYV9y\n",
       "ZWZyZXNoPTAgcmNfbG9va2FoZWFkPTQwIHJjPWNyZiBtYnRyZWU9MSBjcmY9MjMuMCBxY29tcD0w\n",
       "LjYwIHFwbWluPTAgcXBtYXg9NjkgcXBzdGVwPTQgaXBfcmF0aW89MS40MCBhcT0xOjEuMDAAgAAA\n",
       "ClZliIQAN//+9vD+BTY7mNCXEc3onTMfvxW4ujQ3vc4AAAMAADfdI48DHfUCn7qO2ze/IzdxwuKs\n",
       "4Eq+9oRxwldCk3HbsF579KPY3qjhuhOztGJAAAAjzYT411e9RWhhA7l3M+4CkfNBjdGxMXyepWMe\n",
       "p7MCWUOWZwDCZkxBYaQry5DQu12zLre2NW1QHTJT4JZcVs2o5sIAcT7MrLbJkr+01t+HAnnQSv5v\n",
       "cAAZe+Js2nwElxJ3WXLT/bO19mjwSu+KUMDQELo0BoY7rEp4B2Zas8MixQHILCVp9ewcd3hLZMoN\n",
       "p//MaWDvtr6Pf31DC+I15EoLOG8vWaf11t1gEG8evc7hWAAs9hgxobMSXlC1wt2wNQMmNnPknD0l\n",
       "UrxIO0B9GsnIQAeLdVo1JILY2cUAJHvchuARdPO7mQEgouIWwd3trJWXVjlEKJv4FWUlu7QPhW1j\n",
       "K6oQehOJxfdhb8u8+4Tq0HiTDSO+1XMoSv9MedvOEwMb3xVJ68sChOX1B12mSbYcXniZzTy7Mjg+\n",
       "ZCMHN8pSHzuZ19g1NUf1UP7aRjQNvTTWCJwg95u7xmZM29v313rnSpZlbyyOkoi6h+JfQmvKGq9x\n",
       "kdg0OK3qMWG5wfPY7KVLcErh90o3tVzKY+B8SWfQ8tw0w0QEhqlhceWaXjn7E/hgu45iAnYxzzbX\n",
       "5ifxoUehMoF9+THrcn0tpLDxAXQWnR07Wy561hHdlyFsy9QfKSJAq3QLeU7B9uJtQOod37cJPP9F\n",
       "p4Bueyr39wmGzipNSoRyKM2OhJcMUyONb4ESu6GhhAQ/GvcMnM607TJ6Is2q3tN84pLpe2hL5uVh\n",
       "Cf65yO9mDuL7bNAAqor1ANmWitGm4DInizVtRC3k4Ov9JUNrR3+xyw72LPLrgA1OtSZ1XDXU9kzi\n",
       "bUHbkqXOW6ofFJfQleMLJzmqcx4PvA+Z4kc7G+F2a4gHSW9PjXNCPygyxZgKFggLaE+vVVprx+ao\n",
       "FUrDxkfGjDAZQPlsIbskm+X8UPOe0xBdomIUxfy44lQeUkhZON52Q0tNqFFhjiII2d6qsVoYD1ac\n",
       "lmWJzPC3Lp2y/Rz85MQ89VwucdPSy9PUSc/OCQYD+OzCUHPLYUZfh+OlM3+NNrNKTobzTQmXoVqJ\n",
       "tIsxS22mLC416e4eB6786/N+8mG5eSGXNyQHo0ozFOD6AsZven47t4qVAK2JGMJbIZ7ZS0yo7CJk\n",
       "EVWxzPxdux7veBwfInvj4lj9cwhaKEGlcIUWWRT8fM4sJncmLzAmgTuwoLqNymIc7N7oSrsY+QQZ\n",
       "OMCOUbkg6tNUmCIk6K7p1kcdnG1ENVR8n6FDKxQuhmfAMcGDACydqQdU/wPYwpUoONXoN/zvIIR1\n",
       "uiFRKE5Gqn71vb3ngK/DepHgYDjcX/Z5ZmJ0NxpMR4D9xlElt+zSteD8HvOGnPXnbH0/f2dQyZIh\n",
       "jRaztSDoCLvvheI7Y2YGTd4fjNiIheyhf6GxNtfyVXamqsjcafDShstCYFUm5R3J1gROxQzr/X1t\n",
       "K8xgBSAPGkkadoI1UZpm9g5iBglHRxpr2Ssx9VQCqivLurDCq1S3vDFjnoDfH3sBiDiQW/Q0Bmp0\n",
       "OGZTuuD993unV2C1gdJj7R2Igo6MhJCcC9ByP8oR//8LRikAAHxTO4ipO3I8w30u+/gx1rOo9F23\n",
       "2doCeN/pS38o+j69R407TogFVETBAh9xtYAgCpFSLyc8mv/hINl7SsTmwY2UMSC2p9w/gA34D7ck\n",
       "mvqdwB2z3V2e+svknRnNmq5UVrYML0yRPaVdFeZPopV0jV7+aCqeUj5/KX05UQfUxjEGc794rJ7Y\n",
       "O8lxi/0klodvlgspHkyhgN8ZwWAV19w9S8/c0MWUwHZs74w0sWFhRdbdYeJvcumddgVA/18PHoVf\n",
       "o+nN/WGm5g9KhzNgzdThIyDuwR29/RB1tYEwamcKFU0CANY50Ugqe4DbpapwcTV+VnAydOqb3tsQ\n",
       "LPIsWzKaYCeoRRw68I6f+b5fRsdESyjwT5/dDTl0REod9lqb0ixRZ9Tw5y8+zCLjUr5B/6KflFoc\n",
       "a/NOH4f84R9NdzoswhLiR+vbhgw+sT1Tv/7PGsxneZG/78XJf6XBtITLrWVK7v5GrRbNTHvcsPd8\n",
       "T4VXRtK3J+UWhxr9BzCaseH0wDsjwueIaN5B9QQAtlkJp7/+4iHD1yR+CRMhwm2Om8+EOOdIf4s4\n",
       "fYi5ryXKP/2LNv9Ae/Lbu/Gi/T67UDuOU7e6ViAuNmcc8ZTy5Qa0OjQGpmL3rOAUdmXGxA0B50Rz\n",
       "OEtmF9835fX0xg0FAeRaE2tN3xISzg47Il8r5CpSOOxBBjsm1ed6X1MDT3/9xD93tdiFUc/MM/Ge\n",
       "um8uZt/41LUxEBfqdvzqTTW/CuZ+DWXMSyGaKIBOKd3l1gUzJRyyj/NyVk7q1O9KmQpkx6WeCaon\n",
       "jxLHD8Opf+dqTxiyFeT5gur7BewBc7+aUtrByB/WNU3WvdHXXhgwHHNpegco29qo5kkcMYgtTR4E\n",
       "p6Hc5AOWKfX16iNBQBVtTR8epy5bbB8fGKxYr6z2evJh8FWeKuo/mDNw4V+vSo0ge+4YZ5iQrS9g\n",
       "FeV85KBbdmeYk1Y0FqBjsiSje4orhf0Uvskw9H3/eh1ZsuItKbCY60Wkr2657tgCJhhu86bzF8x5\n",
       "jrgGJV0AQHhI1O9kGOB9wPGF+imR/RB0BQMZ6cw2R21HyyH4k688xlmICZlOy0dR8f9IjVB1mWi5\n",
       "K4z4QxR6cgl46Dz3oX0BOJmlcBH0fHx3ZPEm1Hs5WS21kN74vV0AvtW0FlVDeuDt9v7RbzsKmBVB\n",
       "bGnTTBKl/5D6+kgRGlxPd4is9SyKpH5RP9V7sFm2oyJfdLfQv8qb8iWKW3oeJ9zByRji7Ogg6FhC\n",
       "uLnvRrJpLTG/dTJPaEZN9Q9SMUVBor0kaVUlpaLkFYSHmfuugVZ5wCXOAaROfdLApz5c6L9DiU6z\n",
       "i1CDG+ZmQneqBc4iYlVCSoju9c+DrIAYC0gZjNg9UvMZOJOZOvitbTG0LN3NWvi/ifujLBTMr+eQ\n",
       "lpZSllw74YlXn7z5JtBdvxKKYdncZCBqZmkjMoM2MpqZVg5kjiFc7AQH6WnisHdUQMNP+P/RgV1W\n",
       "qVy5+Rfee/MwKz17GUN6+ZzMoSiPw2cUK/3HlfBY40wdQSOSIrz1N1F3kP1Xpi6Jk7BT5qd5G6/i\n",
       "4ddFGNbwi3dT3CMcv6J4dZzGSWluvmwo52H0Hrd0WasnHoAmYfnbdOfNZcFVft1DLREC7uvfN20F\n",
       "28XeYQRxD/KCRtgO9lDjyC1mPR3kj3UEUbgx1KKzwrMW4x/+lXdNqm7+yfF6sfbqSAqWmTuuDYlH\n",
       "WEx8K/KsU8dXtFxyzAIoVEphlEqOXEQz7upGnIoEylWfUUP5/ZTNNhoYzzxXIscRUR9vpWS9E1Qz\n",
       "C0EQojY2nu2S2pO787EyvCfx48GdgEm4A0qJStJIrPPnie8Z/FnU+VyNyVrzp6LHHgN7Kkqe7twz\n",
       "bVMpjuSI3VuUn/r8B4AHPr72CC2xPsU4ZcEAAAChQZokbEN//qeEAiKG6QFDqfOr/HCoNMKxYYNy\n",
       "nBRwS5PfwMyT/ifQGpuA+QxQ7r2rLHnP5zeUHRKTE6cZFNwqC+FI8uWXPkMU4rND336v2hR1wH8c\n",
       "AwbvcOvjEP3fBm7jeg7nsDLIX1cWfO/eGiHyU7/EXjC+ccaykFJAJo1/Q+l40h/M6wk4Gjl+GsCr\n",
       "/Sae880j+FEIlHwjLLA7wVT1X2YAAAAqQZ5CeIX/AQ6dmz9dQAmkzZg5RkRoihLR7CadUEvyGBpi\n",
       "kjgspi7XTQAxAAAAHwGeYXRCvwC6JhwvlHHq/LETQ15Q71ljrQNqCp/+zHgAAAAfAZ5jakK/ANN+\n",
       "NAAQ+6H9z5sxyV7swZx7SpYGk50kAwAAACtBmmVJqEFomUwIb//+p4QBBCDkl3z4Ajw+aiHRjn07\n",
       "UnWQ6obFN+iaYA1JAAAASEGah0nhClJlMFESw3/+p4QBBdzvp8SMpgAiD3mTPmOClnYhCP58uf+w\n",
       "o1AbCLoBjmLuLajVTx5bplIUOLajeBD3XW8SHPgC2wAAABEBnqZqQr8A1mUWSWFIjr6HwwAAAEhB\n",
       "mqlJ4Q6JlMFEw3/+p4QBBYgXsAfqgANFq1fYbiwIISxqHyN+7jnR2LZIQ2bFQetCntSKKSI+s/oU\n",
       "qlilEzKk9NKgXSmOAScAAAAhAZ7IakK/ANT3N/V9ngANl3+Ks4YC0ePB/Rh/ukDu9KYeAAAAckGa\n",
       "zUnhDyZTAhv//qeEAQwvm4ArfoG2QWWyle+/sowJA1xQskzaVjfXh98p0OfXOVJXjqcJ1dfnlsXV\n",
       "3WW+GJ1gj0mjGqV5XlmIHGHc5rhECyC5EHokqUBhwBgSaSTFJJ+euiM/wr3H4hKZ2uxCjJAQ8QAA\n",
       "AChBnutFETwv/wCjzrPhkmG6bN9yAEJ0TkejRKqcaG+LOrGWiv6HCX/wAAAAIwGfCnRCvwDWEqXH\n",
       "fULYAQjfP75ZUSlbFdpr8uHNNp3EJwOwAAAAGwGfDGpCvwDc2EQkBT5u0awEFCy37JFwI/qPwQAA\n",
       "ADNBmw9JqEFomUwU8N/+p4QBDCGeDgBNUT8UF44SCJpHaLNFpbYH+UcQGwqTteeSi+cAsoEAAAAZ\n",
       "AZ8uakK/ANx2WvfV19ZsG4Mw+Ywg4XS6/wAAAEhBmzBJ4QpSZTAhv/6nhAEV7mqBU/gAAAMAl3kH\n",
       "ye7u61vPtsokv41fABUkr2IPIKlmYWyGrQjBXmKuR6yrFK5FGwJVKVcIuIAAAAArQZtTSeEOiZTA\n",
       "hv/+p4QBDB8z4Xol4ZaL6AVhA5CLH5GEk3W35sHg9JgasAAAACBBn3FFETwr/wDcjnoyq8Wum90W\n",
       "zW51Q3or8O5QAT7PFQAAABIBn5JqQr8A17pnmLAYPuBsA6oAAAAxQZuVSahBaJlMFPDP/p4QAhof\n",
       "6suZyAFg/IioANb+BH4FXZe0rLqESH2rrtYm+MBWwAAAAB0Bn7RqQr8A19hpzLcKOByyQMZ2gdr9\n",
       "2DkefI0tEwAAAB9Bm7ZJ4QpSZTAhv/6nhACKjmzVhD7ZvM889ZZaeA9IAAAAJ0Gb10nhDomUwIb/\n",
       "/qeEAIrR5xUToAJQE/PwBrOv8tV83Lj/qrIB/wAAADJBm/pJ4Q8mUwIb//6nhACLdN7UdQKDVoAe\n",
       "AD8gtBMrAbZh1w24lvVI5+/0iDzjDDBXhQAAAB5BnhhFETwr/wBxA4D1fylHsL/2ZAD2HYUM5C5w\n",
       "3IQAAAAXAZ45akK/AHFA5j2oupQjsaeWTwtFrgcAAABOQZo8SahBaJlMFPDf/qeEAElHn7IUAk/a\n",
       "GvABrR19yyPn8nv1krns9A3c/nfuuofiGaFurCCy/+I2oum62lGEkykXWMnjB6DJ/sO7G01QAAAA\n",
       "HAGeW2pCvwA7bIqf8DgnFo9PFgQwqRXU+9baEJEAAAAhQZpfSeEKUmUwIZ/+nhABHRCTpI2yEUSP\n",
       "g2xy4Opc4FJBAAAAJEGefUU0TCv/ADtcueJXGIBUAKyOncef1GkcwjaYuhTCDhf4EAAAAB0Bnp5q\n",
       "Qr8AO1yhmFpV4ht5rNct3nYGbSiZFgsIegAAACtBmoBJqEFomUwIb//+p4QASb+6TI1xZgHowP91\n",
       "kAHAezoI76lFt/rNID0hAAAANUGaoknhClJlMFESwz/+nhABHum9JZM3yYyZb6AEe6HzRxXyTya3\n",
       "9oYjLhJqck0QhHLjM/EnAAAAGwGewWpCvwA7YHMSjBJvOqDhH/LbSNJ8Ze8LgQAAAE1BmsNJ4Q6J\n",
       "lMCGf/6eEACSbMVtiBdiaN7xHEkj2ACfzXSejmknzYh2JETCBHkIHa1hmyDgEMdxr6/+gx3XjBIQ\n",
       "gI2rRDaK2hI3DxxjQAAAACtBmuRJ4Q8mUwIb//6nhAAlsjL9cVDvpACEWqOK1HQu0Ve5oVWytQ3Q\n",
       "4wUFAAAAPUGbBknhDyZTBRE8M//+nhAAk3S8C0xAGxM+ptYS3qDuShKfiV+zlFi2lSwRRh/mFA+h\n",
       "Xlf/YPXVAOfVQ1cAAAAeAZ8lakK/AB8a7lA2+iTzHg9OynlXSpiGo818Gl6BAAAAREGbJ0nhDyZT\n",
       "Ahn//p4QAJN8KIPe0v3XjtZZADS4sNE+xcni4gzPUPfb6bx+kpWAsSLZ6jCjJSOOS7h7nX6W3mXq\n",
       "vmFBAAAAIUGbSEnhDyZTAhv//qeEABNR1XPBfwAB0uYfGV+jeufBNwAAAC1Bm2tJ4Q8mUwIZ//6e\n",
       "EACXfFjD4vWz5rfZxBIGAEu5J4eURmWqPpa8vH715KwAAAApQZ+JRRE8K/8AHxA5j6YGAzfOjsPr\n",
       "5e7+Cr1LV7c4lB6qFuKkWC6qL70AAAAcAZ+qakK/AB8QOY9qjCjDgLUfBLPqBFhG3sMx0AAAADJB\n",
       "m6xJqEFomUwIZ//+nhAATUPELoZAAtztqhmfQ32RXksevExEiXVDLDpcn64nv3zhLwAAAC1Bm81J\n",
       "4QpSZTAhn/6eEABNum9JPHGPlof7SecoASyEHiF75Cd4aiSawRtAk4EAAAAsQZvvSeEOiZTBTRMM\n",
       "//6eEAAnwLGAapToAFylW9mDQnEVeh8Md3CcQ+L8Yk8AAAAYAZ4OakK/AAgrtd+YrqUFHe3f04oi\n",
       "jINBAAAANkGaEEnhDyZTAhn//p4QACeusifF25LVKNAB60febK5JF/DGnI9qFpy/tKRjphEPHTjx\n",
       "P/1lDwAAACdBmjFJ4Q8mUwIZ//6eEAAntaX7uu23lmTsI50PaAGcAFlJup63EfAAAAAdQZpSSeEP\n",
       "JlMCGf/+nhAAJ9bECVXJacqCVtReSgkAAAA1QZpzSeEPJlMCGf/+nhAAJ7Wl+7xfS/6AX5kALDSe\n",
       "BXPeTn1v8EuiFkwlYoxjHk1QwK4YDXgAAAAoQZqUSeEPJlMCG//+p4QACjh2mI3ek9qyXFgt3NLm\n",
       "mVhPzVAu31XXgAAAADZBmrZJ4Q8mUwURPDP//p4QABT66q2hWkAcp6zqunIPqrQXq9lV+xFbnOR2\n",
       "UDEqfQASiHd3Js0AAAAcAZ7VakK/AARXXjIvuRRUAHthuPalUILUqkgcSAAAACBBmtdJ4Q8mUwIZ\n",
       "//6eEAAVAFjJ1W1UteLkHfX8NR85FwAAAC9BmvlJ4Q8mUwURPDP//p4QABUAWQUlsGuL8o6/62Qz\n",
       "QAWRnQt/5xGS/qZL3FUsuQAAABoBnxhqQr8ABFXf/ndsyVGsVXcE5bJdmN0IqAAAAC5BmxpJ4Q8m\n",
       "UwIZ//6eEAAVH3fwgTJ4VMQaAzfJZbpJ8vNrwAKvQO+oVMxxE9GLAAAAKEGbO0nhDyZTAhn//p4Q\n",
       "AArFaX7qge9dPgAJqpTEfGd1vOgg7UgObpgAAAAmQZtcSeEPJlMCGf/+nhAACtHV67tkAAl0x06Y\n",
       "pJcOAp905rJqnHEAAAAoQZt9SeEPJlMCGf/+nhAACsgsHLlxXYWdHyaW46VYSWezgyXR+LqccQAA\n",
       "ACxBm55J4Q8mUwIb//6nhAACw4a+PLAALaOty3UvCjRz/NDuBc7+SaBIxh6XgAAAADVBm6BJ4Q8m\n",
       "UwURPDP//p4QAArFdVbGYX5/R7ACmhmpSXpySBfC09FutQmC7mwKBAKKc7lvpAAAABcBn99qQr8A\n",
       "Ajn6ME3etf1NDv4xp5lfSQAAAClBm8FJ4Q8mUwIb//6nhAACx8y7UdQGvkjRUAF2IAAB9AlqYWoA\n",
       "+ZBmTgAAACtBm+NJ4Q8mUwURPDP//p4QAAWw6/vOwBmKP0Khc7m9iD2ahmEEV62ZqK2BAAAAFQGe\n",
       "AmpCvwABLdcXCN9EJ5BXc8ErpAAAACZBmgRJ4Q8mUwIZ//6eEAAFrljbNcKgYhdoAJBNdDbjbvRu\n",
       "Dg75gQAAACJBmiZJ4Q8mUwURPDP//p4QAAWsFkFJbB95YIxs/DN6E1TzAAAAHQGeRWpCvwABLMVJ\n",
       "6CMVgA7lQIboOWh4MhSQrmwtAAAALUGaR0nhDyZTAhn//p4QAAWz3fwe9pfxTfAEd5PlNDJjWstr\n",
       "902pMqySeCJTgQAAACFBmmhJ4Q8mUwIZ//6eEAAC595O/m/mPgAgMLTurQ2rl8AAAAAmQZqJSeEP\n",
       "JlMCGf/+nhAAAup1lD7ZAAJvPnjk5PwpKcynYOaJddgAAAA8QZqqSeEPJlMCGf/+nhAAAusVyraI\n",
       "pqSOAEFV+aMOXACM5rVAL1sPOrCtqxFA8beNGCjWF5Qy2PxvQ/pBAAAAOUGay0nhDyZTAhv//qeE\n",
       "AADE8lwAwiSMv9SDoMW4tWaaXMs/LkC8CPSZmVB6L1TzRpfoEwFw45VecAAAADxBmu1J4Q8mUwUR\n",
       "PDP//p4QAAL6ia0XWiM2ACLxQMWyWIa69q8ts7TrjaM3Bv1JtlHj1Wh9yqiPmzQan9IAAAAZAZ8M\n",
       "akK/AACfXjEagNABUAoRX8XZkV8vQQAAAC1Bmw5J4Q8mUwIZ//6eEAAC+2+3GPMjuiYW2m1hegxA\n",
       "Dqg9QEUYl4p7k6d3z+kAAAAlQZsvSeEPJlMCG//+p4QAAMTwnmjz/TnYLTVBNllPG8nb8MkbDwAA\n",
       "ACJBm1FJ4Q8mUwURPDf//qeEAABkxM/mo/NcDoVO9MRD3GikAAAAFwGfcGpCvwAAUejvH8woN5tw\n",
       "yN1aQDYjAAAAMkGbdEnhDyZTAhn//p4QAAGJ9judNOoZNtoxiQBGNsIxhMjQ14uZ6nQ1/GS521RD\n",
       "TE0pAAAAJEGfkkURPCv/AABR1CeS/dAArwca1sPRXP68bAMHc5Tp8eeJ7gAAABsBn7NqQr8AAFGi\n",
       "TTcwAm2vX6DVjctTq3ed8bgAAAAuQZu1SahBaJlMCGf//p4QAADIrpfvbQAK3bw2qwpnIJNLZPyX\n",
       "iWPyIGfDGupmpwAAABxBm9ZJ4QpSZTAhn/6eEAAAyNrGTqtvUsvG6yDAAAAAMEGb90nhDomUwIb/\n",
       "/qeEAAAzdgg3WqwAC2hX+bCVUtH8Vr/+LauCAXqKr6KxI4Is+QAAADJBmhlJ4Q8mUwURPDP//p4Q\n",
       "AADNr0IryogEr6ep3Jop8ABpb9KxYwyfNjMNDrq57Ds0cQAAABkBnjhqQr8AACstBcsq95UA9u5m\n",
       "zp7nDJXAAAAAM0GaOknhDyZTAhv//qeEAAA0rMpIAregmMoKI29bOcic0TzXTiMqpSQDyYmIo4qJ\n",
       "yK5JwQAAADFBmlxJ4Q8mUwURPDf//qeEAAA0/CeZLEPSZ2lgN8HIAQ6/k9MQg2vBWEoandlbwNq4\n",
       "AAAAFgGee2pCvwAAKrZjW12ozSM5CAX7YzMAAAAoQZp+SeEPJlMFPDP//p4QAABpV6+GgmgAP6sw\n",
       "1mmmM5DKuUDNHc2+gQAAABMBnp1qQr8AABfe4i4lRQ43AT/gAAAAHkGan0nhDyZTAhn//p4QAABp\n",
       "V0v3VD4bkJ5C1zb0wAAAAEZBmqFJ4Q8mUwURPDP//p4QAABp/Y8Ml/cAAHWic9COUZWmbqwz2sta\n",
       "e5B2fWVMrtXGrIRZ/hvJYB+YGi4T6DhWuKGfObeBAAAAGAGewGpCvwAAF97iI1nO8kBdG/6dK44D\n",
       "8AAAAEBBmsNJ4Q8mUwU8K//+OEAAANJ9Hk1slesAHNA8Dv4hmvU7nashfoVfC209tnsJQ3hmmLsH\n",
       "YD3B6LFBb/ijDWWBAAAAIQGe4mpCvwAAF97bkdsZ4AC+u6xMroycgkLQ6MLPZlqFcAAAByJtb292\n",
       "AAAAbG12aGQAAAAAAAAAAAAAAAAAAAPoAAAPoAABAAABAAAAAAAAAAAAAAAAAQAAAAAAAAAAAAAA\n",
       "AAAAAAEAAAAAAAAAAAAAAAAAAEAAAAAAAAAAAAAAAAAAAAAAAAAAAAAAAAAAAAAAAAACAAAGTHRy\n",
       "YWsAAABcdGtoZAAAAAMAAAAAAAAAAAAAAAEAAAAAAAAPoAAAAAAAAAAAAAAAAAAAAAAAAQAAAAAA\n",
       "AAAAAAAAAAAAAAEAAAAAAAAAAAAAAAAAAEAAAAABsAAAASAAAAAAACRlZHRzAAAAHGVsc3QAAAAA\n",
       "AAAAAQAAD6AAAAQAAAEAAAAABcRtZGlhAAAAIG1kaGQAAAAAAAAAAAAAAAAAADIAAADIAFXEAAAA\n",
       "AAAtaGRscgAAAAAAAAAAdmlkZQAAAAAAAAAAAAAAAFZpZGVvSGFuZGxlcgAAAAVvbWluZgAAABR2\n",
       "bWhkAAAAAQAAAAAAAAAAAAAAJGRpbmYAAAAcZHJlZgAAAAAAAAABAAAADHVybCAAAAABAAAFL3N0\n",
       "YmwAAAC3c3RzZAAAAAAAAAABAAAAp2F2YzEAAAAAAAAAAQAAAAAAAAAAAAAAAAAAAAABsAEgAEgA\n",
       "AABIAAAAAAAAAAEAAAAAAAAAAAAAAAAAAAAAAAAAAAAAAAAAAAAAAAAAAAAY//8AAAA1YXZjQwFk\n",
       "ABX/4QAYZ2QAFazZQbCWhAAAAwAEAAADAMg8WLZYAQAGaOvjyyLA/fj4AAAAABx1dWlka2hA8l8k\n",
       "T8W6OaUbzwMj8wAAAAAAAAAYc3R0cwAAAAAAAAABAAAAZAAAAgAAAAAUc3RzcwAAAAAAAAABAAAA\n",
       "AQAAAnBjdHRzAAAAAAAAAEwAAAABAAAEAAAAAAEAAAoAAAAAAQAABAAAAAABAAAAAAAAAAEAAAIA\n",
       "AAAAAQAABAAAAAABAAAGAAAAAAEAAAIAAAAAAQAABgAAAAABAAACAAAAAAEAAAoAAAAAAQAABAAA\n",
       "AAABAAAAAAAAAAEAAAIAAAAAAQAABgAAAAABAAACAAAAAAEAAAQAAAAAAQAACAAAAAACAAACAAAA\n",
       "AAEAAAYAAAAAAQAAAgAAAAACAAAEAAAAAAEAAAgAAAAAAgAAAgAAAAABAAAGAAAAAAEAAAIAAAAA\n",
       "AQAACAAAAAACAAACAAAAAAEAAAQAAAAAAQAABgAAAAABAAACAAAAAAIAAAQAAAAAAQAABgAAAAAB\n",
       "AAACAAAAAAIAAAQAAAAAAQAACAAAAAACAAACAAAAAAIAAAQAAAAAAQAABgAAAAABAAACAAAAAAUA\n",
       "AAQAAAAAAQAABgAAAAABAAACAAAAAAEAAAQAAAAAAQAABgAAAAABAAACAAAAAAUAAAQAAAAAAQAA\n",
       "BgAAAAABAAACAAAAAAEAAAQAAAAAAQAABgAAAAABAAACAAAAAAEAAAQAAAAAAQAABgAAAAABAAAC\n",
       "AAAAAAUAAAQAAAAAAQAABgAAAAABAAACAAAAAAIAAAQAAAAAAQAABgAAAAABAAACAAAAAAEAAAgA\n",
       "AAAAAgAAAgAAAAADAAAEAAAAAAEAAAYAAAAAAQAAAgAAAAABAAAEAAAAAAEAAAYAAAAAAQAAAgAA\n",
       "AAABAAAGAAAAAAEAAAIAAAAAAQAABAAAAAABAAAGAAAAAAEAAAIAAAAAAQAABgAAAAABAAACAAAA\n",
       "ABxzdHNjAAAAAAAAAAEAAAABAAAAZAAAAAEAAAGkc3RzegAAAAAAAAAAAAAAZAAADQ0AAAClAAAA\n",
       "LgAAACMAAAAjAAAALwAAAEwAAAAVAAAATAAAACUAAAB2AAAALAAAACcAAAAfAAAANwAAAB0AAABM\n",
       "AAAALwAAACQAAAAWAAAANQAAACEAAAAjAAAAKwAAADYAAAAiAAAAGwAAAFIAAAAgAAAAJQAAACgA\n",
       "AAAhAAAALwAAADkAAAAfAAAAUQAAAC8AAABBAAAAIgAAAEgAAAAlAAAAMQAAAC0AAAAgAAAANgAA\n",
       "ADEAAAAwAAAAHAAAADoAAAArAAAAIQAAADkAAAAsAAAAOgAAACAAAAAkAAAAMwAAAB4AAAAyAAAA\n",
       "LAAAACoAAAAsAAAAMAAAADkAAAAbAAAALQAAAC8AAAAZAAAAKgAAACYAAAAhAAAAMQAAACUAAAAq\n",
       "AAAAQAAAAD0AAABAAAAAHQAAADEAAAApAAAAJgAAABsAAAA2AAAAKAAAAB8AAAAyAAAAIAAAADQA\n",
       "AAA2AAAAHQAAADcAAAA1AAAAGgAAACwAAAAXAAAAIgAAAEoAAAAcAAAARAAAACUAAAAUc3RjbwAA\n",
       "AAAAAAABAAAAMAAAAGJ1ZHRhAAAAWm1ldGEAAAAAAAAAIWhkbHIAAAAAAAAAAG1kaXJhcHBsAAAA\n",
       "AAAAAAAAAAAALWlsc3QAAAAlqXRvbwAAAB1kYXRhAAAAAQAAAABMYXZmNTguNDUuMTAw\n",
       "\">\n",
       "  Your browser does not support the video tag.\n",
       "</video>"
      ],
      "text/plain": [
       "<IPython.core.display.HTML object>"
      ]
     },
     "execution_count": null,
     "metadata": {},
     "output_type": "execute_result"
    }
   ],
   "source": [
    "# draw terrain\n",
    "def terrain(theta_rad, x_0, x_range):\n",
    "    y_range = theta*(x_range-x_0[0])+x_0[1]-10\n",
    "    close_triangle = (x_range[0], y_range[-1])\n",
    "    x_range = np.append(x_range, close_triangle[0])\n",
    "    y_range = np.append(y_range, close_triangle[1])\n",
    "    X = np.matrix([x_range, y_range]).transpose()\n",
    "    patch = plt.Polygon(X, color='yellow')\n",
    "    return patch\n",
    "\n",
    "x_range = np.linspace(int(position[0][0]), int(position[-1][0]), num=20)\n",
    "patch = terrain(theta_rad=theta, x_0=x_0, x_range=x_range)\n",
    "\n",
    "# initialization function: plot the background of each frame\n",
    "def init():\n",
    "    ax.add_patch(patch)\n",
    "    return patch,\n",
    "\n",
    "# animation function. This is called sequentially\n",
    "def animate(i):    \n",
    "    #line.set_data(time[max(0,i-2):i], position[max(0,i-2):i])\n",
    "    x_min, x_max = position[max(0,i-2)][0], position[i][0]\n",
    "    y_min, y_max = position[max(0,i-2)][1], position[i][1]\n",
    "    line.set_data([x_min, x_max], [y_min, y_max])\n",
    "    return (line,)\n",
    "\n",
    "\n",
    "# call the animator. blit=True means only re-draw the parts that have changed.\n",
    "anim = animation.FuncAnimation(fig, animate, init_func=init,\n",
    "                               frames=len(time), interval=40, blit=True,\n",
    "                               repeat_delay=10000, repeat=True);\n",
    "\n",
    "HTML(anim.to_html5_video())\n",
    "#anim"
   ]
  },
  {
   "cell_type": "markdown",
   "id": "4420f2d5",
   "metadata": {},
   "source": [
    "----------------------------"
   ]
  },
  {
   "cell_type": "markdown",
   "id": "da54d924",
   "metadata": {},
   "source": [
    "## The Control Problem"
   ]
  },
  {
   "cell_type": "markdown",
   "id": "a2bf106c",
   "metadata": {},
   "source": [
    "- We know the model of the system \n",
    "- We know how we want the system outputs to behave \n",
    "- We can determine the appropriate inputs through various control methods.\n",
    "\n",
    "_Control problem - how do we generate the appropriate system input that will produce the desired output?_"
   ]
  },
  {
   "cell_type": "markdown",
   "id": "18bffa4a",
   "metadata": {},
   "source": [
    "- Control theory gives you the tools needed to answer this question. \n",
    "- Without control theory, the designer is relegated to choosing a control system through trial and error."
   ]
  },
  {
   "cell_type": "markdown",
   "id": "88fc6fb6",
   "metadata": {},
   "source": [
    "- How can I get my system to meet my performance requirements?\n",
    "- How can I automate a process that currently involves humans in the\n",
    "loop?\n",
    "- How can my system operate in a dynamic and noisy environment?\n",
    "\n",
    "<tr>\n",
    "<td> <img src=\"img/11.The-control-problem.png\" alt=\"11.The-control-problem\" style=\"width: 350px;\"/> </td>\n",
    "</tr>"
   ]
  },
  {
   "cell_type": "markdown",
   "id": "346f0d35",
   "metadata": {},
   "source": [
    "---------------------------"
   ]
  },
  {
   "cell_type": "markdown",
   "id": "43ef8423",
   "metadata": {},
   "source": [
    "# Why do we need feedback control?"
   ]
  },
  {
   "cell_type": "markdown",
   "id": "99dc7775",
   "metadata": {},
   "source": [
    "### Open-loop control"
   ]
  },
  {
   "cell_type": "markdown",
   "id": "41e5751b",
   "metadata": {},
   "source": [
    "- Now the box isn’t just any system, it’s specifically a system that we want to control. \n",
    "- We can the system that is being controlled as the process (or controlled system). \n",
    "- The inputs into the process are variables that we have access to and can change based on whichever control scheme we choose (manipulated variables).\n",
    "- Actuators manipulate these variables. An actuator is a generic term that refers to a device or motor that is responsible for controlling a system.\n",
    "- The actuators are driven by an actuating signal that is generated by the controller.\n",
    "\n",
    "<tr>\n",
    "<td> <img src=\"img/12.feedback-control-1.png\" alt=\"12.feedback-control-1\" style=\"width: 550px;\"/> </td>\n",
    "</tr>\n"
   ]
  },
  {
   "cell_type": "markdown",
   "id": "7138ebef",
   "metadata": {},
   "source": [
    "This type of control system is referred to as open-loop since the inputs into the controller are not fed back from the output of the process.\n",
    "\n",
    "- Open loop control is reserved for simple processes that have well-defined input to output behaviors\n",
    "\n",
    "Some examples:\n",
    "- Dishwasher\n",
    "- Lawn sprinklers\n"
   ]
  },
  {
   "cell_type": "markdown",
   "id": "89f6b3ed",
   "metadata": {},
   "source": [
    "### Feedback-control"
   ]
  },
  {
   "cell_type": "markdown",
   "id": "82a90001",
   "metadata": {},
   "source": [
    "For any arbitrary process, an open-loop control system is typically not sufficient. \n",
    "\n",
    "This is because:\n",
    "- there are disturbances that affect your system that are random by nature and beyond your control;\n",
    "- the process itself might have variations (e.g., variation of resistence due to temperature)\n",
    "\n",
    "Since an open-loop control has no knowledge of the process output has no way of responding to these variations.\n"
   ]
  },
  {
   "cell_type": "markdown",
   "id": "f56e2989",
   "metadata": {},
   "source": [
    "So what can we do about this? \n",
    "- We add feedback to our system! \n",
    "- We accept the fact that disturbances and process variations are going to influence the controlled variable.\n",
    "- Instead of living with the resulting error, we add a sensor that will measure the controlled variable and pass it along to our controller. \n",
    "\n",
    "<tr>\n",
    "<td> <img src=\"img/15.feedback-control-2.png\" alt=\"15.feedback-control-2\" style=\"width: 550px;\"/> </td>\n",
    "</tr>\n",
    "\n",
    "A feedback control system is able to react to changes to the controlled variable automatically by constantly driving the error term to zero."
   ]
  },
  {
   "cell_type": "markdown",
   "id": "97ea554c",
   "metadata": {},
   "source": [
    "### What is a control system?\n",
    "\n",
    "- A control system is a mechanism that alters the behavior (or the future state) of a system;\n",
    "- The future behavior of the system must tend towards a state that is desired. \n",
    "- This means that you have to know what you want your system to do and then design your control system to generate that desired outcome."
   ]
  },
  {
   "cell_type": "markdown",
   "id": "4403c6e3",
   "metadata": {},
   "source": [
    "--------------------------------"
   ]
  }
 ],
 "metadata": {
  "kernelspec": {
   "display_name": "Python [conda env:data-science] *",
   "language": "python",
   "name": "conda-env-data-science-py"
  }
 },
 "nbformat": 4,
 "nbformat_minor": 5
}
